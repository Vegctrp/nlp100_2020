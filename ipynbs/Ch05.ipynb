{
 "cells": [
  {
   "cell_type": "markdown",
   "metadata": {},
   "source": [
    "# 第5章: 係り受け解析"
   ]
  },
  {
   "cell_type": "code",
   "execution_count": 1,
   "metadata": {},
   "outputs": [
    {
     "name": "stdout",
     "output_type": "stream",
     "text": [
      "Will not apply HSTS. The HSTS database must be a regular and non-world-writable file.\n",
      "ERROR: could not open HSTS store at '/home/altair626/.wget-hsts'. HSTS will be disabled.\n",
      "--2020-04-30 21:32:29--  https://nlp100.github.io/data/neko.txt\n",
      "Resolving nlp100.github.io (nlp100.github.io)... 185.199.111.153, 185.199.108.153, 185.199.109.153, ...\n",
      "Connecting to nlp100.github.io (nlp100.github.io)|185.199.111.153|:443... connected.\n",
      "HTTP request sent, awaiting response... 200 OK\n",
      "Length: 965825 (943K) [text/plain]\n",
      "Saving to: ‘neko.txt.1’\n",
      "\n",
      "neko.txt.1          100%[===================>] 943.19K  --.-KB/s    in 0.04s   \n",
      "\n",
      "2020-04-30 21:32:29 (21.0 MB/s) - ‘neko.txt.1’ saved [965825/965825]\n",
      "\n"
     ]
    }
   ],
   "source": [
    "!wget https://nlp100.github.io/data/neko.txt"
   ]
  },
  {
   "cell_type": "code",
   "execution_count": 2,
   "metadata": {},
   "outputs": [],
   "source": [
    "!cabocha -f1 <neko.txt >neko.txt.cabocha"
   ]
  },
  {
   "cell_type": "markdown",
   "metadata": {},
   "source": [
    "## 40. 係り受け解析結果の読み込み（形態素）\n",
    "形態素を表すクラスMorphを実装せよ．このクラスは表層形（surface），基本形（base），品詞（pos），品詞細分類1（pos1）をメンバ変数に持つこととする．さらに，CaboChaの解析結果（neko.txt.cabocha）を読み込み，各文をMorphオブジェクトのリストとして表現し，3文目の形態素列を表示せよ．"
   ]
  },
  {
   "cell_type": "code",
   "execution_count": 3,
   "metadata": {},
   "outputs": [],
   "source": [
    "class Morph:\n",
    "    def __init__(self,surf_line,base=None,pos=None,pos1=None):\n",
    "        if base is not None:\n",
    "            self.surface=surf_line\n",
    "            self.base=base\n",
    "            self.pos=pos\n",
    "            self.pos1=pos1\n",
    "        else:\n",
    "            self.surface = surf_line.split(\"\\t\")[0]\n",
    "            self.base = surf_line.split(\"\\t\")[1].split(\",\")[6]\n",
    "            self.pos = surf_line.split(\"\\t\")[1].split(\",\")[0]\n",
    "            self.pos1 = surf_line.split(\"\\t\")[1].split(\",\")[1]\n",
    "    def print_morph(self):\n",
    "        print(\"{} {} {} {}\".format(self.surface,self.base,self.pos,self.pos1))"
   ]
  },
  {
   "cell_type": "code",
   "execution_count": 4,
   "metadata": {},
   "outputs": [],
   "source": [
    "def make_novellist():\n",
    "    novel_list = []\n",
    "    with open(\"./neko.txt.cabocha\", \"r\") as intxt:\n",
    "        fulltxt = intxt.read()\n",
    "        for sentence in fulltxt.split(\"EOS\"):\n",
    "            if sentence != \"\\n\":\n",
    "                sentence_list = []\n",
    "                for morph in sentence.split(\"\\n\"):\n",
    "                    if morph!=\"\" and morph[0]!=\"*\":\n",
    "                        sentence_list.append(Morph(morph))\n",
    "                novel_list.append(sentence_list)\n",
    "    return novel_list"
   ]
  },
  {
   "cell_type": "code",
   "execution_count": 5,
   "metadata": {},
   "outputs": [
    {
     "name": "stdout",
     "output_type": "stream",
     "text": [
      "名前 名前 名詞 一般\n",
      "は は 助詞 係助詞\n",
      "まだ まだ 副詞 助詞類接続\n",
      "無い 無い 形容詞 自立\n",
      "。 。 記号 句点\n"
     ]
    }
   ],
   "source": [
    "nl = make_novellist()\n",
    "for ml in nl[2]:\n",
    "    ml.print_morph()"
   ]
  },
  {
   "cell_type": "markdown",
   "metadata": {},
   "source": [
    "## 41. 係り受け解析結果の読み込み（文節・係り受け）\n",
    "40に加えて，文節を表すクラスChunkを実装せよ．このクラスは形態素（Morphオブジェクト）のリスト（morphs），係り先文節インデックス番号（dst），係り元文節インデックス番号のリスト（srcs）をメンバ変数に持つこととする．さらに，入力テキストのCaboChaの解析結果を読み込み，１文をChunkオブジェクトのリストとして表現し，8文目の文節の文字列と係り先を表示せよ．第5章の残りの問題では，ここで作ったプログラムを活用せよ．"
   ]
  },
  {
   "cell_type": "code",
   "execution_count": 6,
   "metadata": {},
   "outputs": [],
   "source": [
    "class Chunk:\n",
    "    def __init__(self, line=None):\n",
    "        if line is None:\n",
    "            self.morphs=[]\n",
    "            self.dst=-1\n",
    "            self.srcs=[]\n",
    "        else:\n",
    "            self.morphs = []\n",
    "            self.dst = int(line.split(\" \")[1][:-1])\n",
    "            self.srcs = []\n",
    "    def add_morph(self,morph):\n",
    "        self.morphs.append(morph)\n",
    "    def add_dst(self,dst):\n",
    "        self.dst=dst\n",
    "    def add_src(self,src):\n",
    "        self.srcs.append(src)\n",
    "    def print_chunk(self):\n",
    "        print(\"Chunk : \\n\\tmorphs : \")\n",
    "        for morph in self.morphs:\n",
    "            print(\"\\t\\t\",end=\"\")\n",
    "            morph.print_morph()\n",
    "        print(\"\\tdst : {}\".format(self.dst))\n",
    "        print(\"\\tsrcs : { \",end=\"\")\n",
    "        for src in self.srcs:\n",
    "            print(str(src)+\" \",end=\"\")\n",
    "        print(\"}\")\n",
    "    def chunk_string(self):\n",
    "        return \"\".join([morph.surface for morph in self.morphs])\n",
    "    def chunk_string_without_sign(self):\n",
    "        return \"\".join([morph.surface if morph.pos!=\"記号\" else \"\" for morph in self.morphs])\n",
    "    def print_chunk_string(self):\n",
    "        print(self.chunk_string())\n",
    "    def include_verb(self):\n",
    "        for morph in self.morphs:\n",
    "            if morph.pos==\"動詞\":\n",
    "                return True\n",
    "        return False\n",
    "    def include_noun(self):\n",
    "        for morph in self.morphs:\n",
    "            if morph.pos==\"名詞\":\n",
    "                return True\n",
    "        return False\n",
    "    def get_first_verb(self):\n",
    "        for morph in self.morphs:\n",
    "            if morph.pos==\"動詞\":\n",
    "                return morph.base\n",
    "        return \"\"\n",
    "    def get_last_pparticle(self):\n",
    "        for morph in self.morphs[::-1]:\n",
    "            if morph.pos==\"助詞\":\n",
    "                return morph.base\n",
    "        return \"\""
   ]
  },
  {
   "cell_type": "code",
   "execution_count": 7,
   "metadata": {},
   "outputs": [],
   "source": [
    "def make_novellist():\n",
    "    novel_list = []\n",
    "    with open(\"../data/neko.txt.cabocha\", \"r\") as intxt:\n",
    "        fulltxt = intxt.read()\n",
    "        for sentence in fulltxt.split(\"EOS\"):\n",
    "            if sentence != \"\\n\":\n",
    "                sentence_list = []\n",
    "                chunks = sentence.split(\"* \")\n",
    "                for chunk in chunks[1:]:\n",
    "                    cs = chunk.split(\"\\n\")\n",
    "                    c = Chunk(cs[0])\n",
    "                    for morph in cs[1:-1]:\n",
    "                        c.add_morph(Morph(morph))\n",
    "                    sentence_list.append(c)\n",
    "                \n",
    "                for i,chunk in enumerate(sentence_list):\n",
    "                    if chunk.dst != -1:\n",
    "                        sentence_list[chunk.dst].add_src(i)\n",
    "                novel_list.append(sentence_list)\n",
    "    return novel_list"
   ]
  },
  {
   "cell_type": "code",
   "execution_count": 8,
   "metadata": {},
   "outputs": [
    {
     "name": "stdout",
     "output_type": "stream",
     "text": [
      "Chunk : \n",
      "\tmorphs : \n",
      "\t\tこの この 連体詞 *\n",
      "\tdst : 1\n",
      "\tsrcs : { }\n",
      "この\n",
      "Chunk : \n",
      "\tmorphs : \n",
      "\t\t書生 書生 名詞 一般\n",
      "\t\tという という 助詞 格助詞\n",
      "\t\tの の 名詞 非自立\n",
      "\t\tは は 助詞 係助詞\n",
      "\tdst : 7\n",
      "\tsrcs : { 0 }\n",
      "書生というのは\n",
      "Chunk : \n",
      "\tmorphs : \n",
      "\t\t時々 時々 副詞 一般\n",
      "\tdst : 4\n",
      "\tsrcs : { }\n",
      "時々\n",
      "Chunk : \n",
      "\tmorphs : \n",
      "\t\t我々 我々 名詞 代名詞\n",
      "\t\tを を 助詞 格助詞\n",
      "\tdst : 4\n",
      "\tsrcs : { }\n",
      "我々を\n",
      "Chunk : \n",
      "\tmorphs : \n",
      "\t\t捕え 捕える 動詞 自立\n",
      "\t\tて て 助詞 接続助詞\n",
      "\tdst : 5\n",
      "\tsrcs : { 2 3 }\n",
      "捕えて\n",
      "Chunk : \n",
      "\tmorphs : \n",
      "\t\t煮 煮る 動詞 自立\n",
      "\t\tて て 助詞 接続助詞\n",
      "\tdst : 6\n",
      "\tsrcs : { 4 }\n",
      "煮て\n",
      "Chunk : \n",
      "\tmorphs : \n",
      "\t\t食う 食う 動詞 自立\n",
      "\t\tという という 助詞 格助詞\n",
      "\tdst : 7\n",
      "\tsrcs : { 5 }\n",
      "食うという\n",
      "Chunk : \n",
      "\tmorphs : \n",
      "\t\t話 話 名詞 サ変接続\n",
      "\t\tで だ 助動詞 *\n",
      "\t\tある ある 助動詞 *\n",
      "\t\t。 。 記号 句点\n",
      "\tdst : -1\n",
      "\tsrcs : { 1 6 }\n",
      "話である。\n"
     ]
    }
   ],
   "source": [
    "nl = make_novellist()\n",
    "for cl in nl[7]:\n",
    "    cl.print_chunk()\n",
    "    cl.print_chunk_string()"
   ]
  },
  {
   "cell_type": "markdown",
   "metadata": {},
   "source": [
    "## 42. 係り元と係り先の文節の表示\n",
    "係り元の文節と係り先の文節のテキストをタブ区切り形式ですべて抽出せよ．ただし，句読点などの記号は出力しないようにせよ．"
   ]
  },
  {
   "cell_type": "code",
   "execution_count": 9,
   "metadata": {},
   "outputs": [
    {
     "name": "stdout",
     "output_type": "stream",
     "text": [
      "吾輩は\t猫である\n",
      "名前は\t無い\n",
      "まだ\t無い\n",
      "どこで\t生れたか\n",
      "生れたか\tつかぬ\n",
      "とんと\tつかぬ\n",
      "見当が\tつかぬ\n",
      "何でも\t薄暗い\n",
      "薄暗い\t所で\n",
      "じめじめした\t所で\n",
      "所で\t泣いて\n",
      "ニャーニャー\t泣いて\n",
      "泣いて\t記憶している\n",
      "いた事だけは\t記憶している\n",
      "吾輩は\t見た\n",
      "ここで\t始めて\n",
      "始めて\t人間という\n",
      "人間という\tものを\n",
      "ものを\t見た\n",
      "しかも\t種族であったそうだ\n"
     ]
    }
   ],
   "source": [
    "Dependencies = []\n",
    "\n",
    "for sl in nl:\n",
    "    for chunk in sl:\n",
    "        if chunk.dst != -1 and chunk.chunk_string_without_sign()!=\"\" and sl[chunk.dst].chunk_string_without_sign()!=\"\":\n",
    "            Dependencies.append((chunk, sl[chunk.dst]))\n",
    "    \n",
    "for dep in Dependencies[:20]:\n",
    "    print(dep[0].chunk_string_without_sign()+\"\\t\"+dep[1].chunk_string_without_sign())"
   ]
  },
  {
   "cell_type": "markdown",
   "metadata": {},
   "source": [
    "## 43. 名詞を含む文節が動詞を含む文節に係るものを抽出\n",
    "名詞を含む文節が，動詞を含む文節に係るとき，これらをタブ区切り形式で抽出せよ．ただし，句読点などの記号は出力しないようにせよ．"
   ]
  },
  {
   "cell_type": "code",
   "execution_count": 10,
   "metadata": {},
   "outputs": [
    {
     "name": "stdout",
     "output_type": "stream",
     "text": [
      "どこで\t生れたか\n",
      "見当が\tつかぬ\n",
      "所で\t泣いて\n",
      "ニャーニャー\t泣いて\n",
      "いた事だけは\t記憶している\n",
      "吾輩は\t見た\n",
      "ここで\t始めて\n",
      "ものを\t見た\n",
      "あとで\t聞くと\n",
      "我々を\t捕えて\n",
      "掌に\t載せられて\n",
      "スーと\t持ち上げられた\n",
      "時\tフワフワした\n",
      "感じが\tあったばかりである\n",
      "上で\t落ちついて\n",
      "顔を\t見たのが\n",
      "ものの\t見始であろう\n",
      "ものだと\t思った\n",
      "感じが\t残っている\n",
      "今でも\t残っている\n"
     ]
    }
   ],
   "source": [
    "Dependencies_nv = []\n",
    "\n",
    "for sl in nl:\n",
    "    for chunk in sl:\n",
    "        if chunk.dst != -1 and chunk.include_noun() and sl[chunk.dst].include_verb():\n",
    "            Dependencies_nv.append((chunk, sl[chunk.dst]))\n",
    "    \n",
    "for dep in Dependencies_nv[:20]:\n",
    "    print(dep[0].chunk_string_without_sign()+\"\\t\"+dep[1].chunk_string_without_sign())"
   ]
  },
  {
   "cell_type": "markdown",
   "metadata": {},
   "source": [
    "## 44. 係り受け木の可視化\n",
    "与えられた文の係り受け木を有向グラフとして可視化せよ．可視化には，係り受け木をDOT言語に変換し，Graphvizを用いるとよい．また，Pythonから有向グラフを直接的に可視化するには，pydotを使うとよい．"
   ]
  },
  {
   "cell_type": "code",
   "execution_count": 11,
   "metadata": {},
   "outputs": [],
   "source": [
    "import pydot\n",
    "from PIL import Image"
   ]
  },
  {
   "cell_type": "code",
   "execution_count": 12,
   "metadata": {},
   "outputs": [
    {
     "name": "stdout",
     "output_type": "stream",
     "text": [
      "[('どこで', '生れたか'), ('生れたか', 'つかぬ'), ('とんと', 'つかぬ'), ('見当が', 'つかぬ')]\n"
     ]
    },
    {
     "data": {
      "image/png": "[encoded data removed]",
      "text/plain": [
       "<PIL.PngImagePlugin.PngImageFile image mode=RGBA size=377x251 at 0x7F3E765EAD30>"
      ]
     },
     "execution_count": 12,
     "metadata": {},
     "output_type": "execute_result"
    }
   ],
   "source": [
    "sentence_num = 3\n",
    "graph = []\n",
    "for chunk in nl[sentence_num]:\n",
    "    src_string = chunk.chunk_string_without_sign()\n",
    "    if chunk.dst == -1:\n",
    "        dst_string = \"\"\n",
    "    else:\n",
    "        dst_string = nl[sentence_num][chunk.dst].chunk_string_without_sign()\n",
    "    if src_string !=\"\" and dst_string !=\"\":\n",
    "        graph.append((src_string, dst_string))\n",
    "    \n",
    "print(graph)\n",
    "g=pydot.graph_from_edges(graph,directed=True)\n",
    "g.write_png(\"44result.png\")\n",
    "\n",
    "Image.open(\"44result.png\")"
   ]
  },
  {
   "cell_type": "markdown",
   "metadata": {},
   "source": [
    "## 45. 動詞の格パターンの抽出\n",
    "今回用いている文章をコーパスと見なし，日本語の述語が取りうる格を調査したい． 動詞を述語，動詞に係っている文節の助詞を格と考え，述語と格をタブ区切り形式で出力せよ． ただし，出力は以下の仕様を満たすようにせよ．\n",
    "\n",
    "- 動詞を含む文節において，最左の動詞の基本形を述語とする\n",
    "- 述語に係る助詞を格とする\n",
    "- 述語に係る助詞（文節）が複数あるときは，すべての助詞をスペース区切りで辞書順に並べる\n",
    "\n",
    "「吾輩はここで始めて人間というものを見た」という例文（neko.txt.cabochaの8文目）を考える． この文は「始める」と「見る」の２つの動詞を含み，「始める」に係る文節は「ここで」，「見る」に係る文節は「吾輩は」と「ものを」と解析された場合は，次のような出力になるはずである．\n",
    "\n",
    "```\n",
    "始める  で\n",
    "見る    は を\n",
    "```\n",
    "\n",
    "このプログラムの出力をファイルに保存し，以下の事項をUNIXコマンドを用いて確認せよ．\n",
    "\n",
    "- コーパス中で頻出する述語と格パターンの組み合わせ\n",
    "- 「する」「見る」「与える」という動詞の格パターン（コーパス中で出現頻度の高い順に並べよ）"
   ]
  },
  {
   "cell_type": "code",
   "execution_count": 13,
   "metadata": {},
   "outputs": [],
   "source": [
    "with open(\"result45.txt\", \"w\") as out:\n",
    "    for sl in nl:\n",
    "        for chunk in sl:\n",
    "            if len(chunk.srcs)!=0 and chunk.include_verb():\n",
    "                verb=chunk.get_first_verb()\n",
    "                pps=[]\n",
    "                for src_chunk in chunk.srcs:\n",
    "                    pp = sl[src_chunk].get_last_pparticle()\n",
    "                    if pp!=\"\" and not pp in pps:\n",
    "                        pps.append(pp)\n",
    "                pps.sort()\n",
    "                if len(pps)!=0:\n",
    "                    print(verb+\"\\t\"+\" \".join(pps), file=out)\n"
   ]
  },
  {
   "cell_type": "code",
   "execution_count": 14,
   "metadata": {},
   "outputs": [
    {
     "name": "stdout",
     "output_type": "stream",
     "text": [
      "生れる\tで\r\n",
      "つく\tか が\r\n",
      "泣く\tで\r\n",
      "する\tて は\r\n",
      "始める\tで\r\n",
      "見る\tは を\r\n",
      "聞く\tで\r\n",
      "捕える\tを\r\n",
      "煮る\tて\r\n",
      "食う\tて\r\n"
     ]
    }
   ],
   "source": [
    "!head ./result45.txt"
   ]
  },
  {
   "cell_type": "code",
   "execution_count": 15,
   "metadata": {},
   "outputs": [
    {
     "name": "stdout",
     "output_type": "stream",
     "text": [
      "    712 云う\tと\r\n",
      "    452 する\tを\r\n",
      "    334 思う\tと\r\n",
      "    217 ある\tが\r\n",
      "    207 なる\tに\r\n",
      "    199 する\tに\r\n",
      "    198 見る\tて\r\n",
      "    163 する\tと\r\n",
      "    121 する\tに を\r\n",
      "    120 する\tが\r\n"
     ]
    }
   ],
   "source": [
    "cat ./result45.txt | sort | uniq -c | sort -r 2>/dev/null | head"
   ]
  },
  {
   "cell_type": "code",
   "execution_count": 16,
   "metadata": {},
   "outputs": [
    {
     "name": "stdout",
     "output_type": "stream",
     "text": [
      "    452 する\tを\r\n",
      "    199 する\tに\r\n",
      "    163 する\tと\r\n",
      "    121 する\tに を\r\n",
      "    120 する\tが\r\n",
      "     93 する\tて を\r\n",
      "     89 する\tは\r\n",
      "     67 する\tて\r\n",
      "     62 する\tが を\r\n",
      "     60 する\tも\r\n"
     ]
    }
   ],
   "source": [
    "cat ./result45.txt | sort | uniq -c | sort -r | grep -E \"\\sする\" 2>/dev/null | head"
   ]
  },
  {
   "cell_type": "code",
   "execution_count": 17,
   "metadata": {},
   "outputs": [
    {
     "name": "stdout",
     "output_type": "stream",
     "text": [
      "    198 見る\tて\r\n",
      "     98 見る\tを\r\n",
      "     20 見る\tから\r\n",
      "     18 見る\tて は\r\n",
      "     17 見る\tと\r\n",
      "     17 見る\tて を\r\n",
      "     16 見る\tから て\r\n",
      "     13 見る\tで\r\n",
      "      9 見る\tに\r\n",
      "      9 見る\tて と\r\n"
     ]
    }
   ],
   "source": [
    "cat ./result45.txt | sort | uniq -c | sort -r | grep -E \"\\s見る\" 2>/dev/null | head"
   ]
  },
  {
   "cell_type": "code",
   "execution_count": 18,
   "metadata": {},
   "outputs": [
    {
     "name": "stdout",
     "output_type": "stream",
     "text": [
      "      4 与える\tに を\r\n",
      "      3 与える\tて に は を\r\n",
      "      2 与える\tて に を\r\n",
      "      1 与える\tも を\r\n",
      "      1 与える\tば を\r\n",
      "      1 与える\tは も\r\n",
      "      1 与える\tで に を\r\n",
      "      1 与える\tて と は を\r\n",
      "      1 与える\tけれども は を\r\n",
      "      1 与える\tが を\r\n"
     ]
    }
   ],
   "source": [
    "cat ./result45.txt | sort | uniq -c | sort -r | grep -E \"\\s与える\" 2>/dev/null | head"
   ]
  },
  {
   "cell_type": "markdown",
   "metadata": {},
   "source": [
    "## 46. 動詞の格フレーム情報の抽出\n",
    "45のプログラムを改変し，述語と格パターンに続けて項（述語に係っている文節そのもの）をタブ区切り形式で出力せよ．45の仕様に加えて，以下の仕様を満たすようにせよ．\n",
    "\n",
    "- 項は述語に係っている文節の単語列とする（末尾の助詞を取り除く必要はない）\n",
    "- 述語に係る文節が複数あるときは，助詞と同一の基準・順序でスペース区切りで並べる\n",
    "\n",
    "「吾輩はここで始めて人間というものを見た」という例文（neko.txt.cabochaの8文目）を考える． この文は「始める」と「見る」の２つの動詞を含み，「始める」に係る文節は「ここで」，「見る」に係る文節は「吾輩は」と「ものを」と解析された場合は，次のような出力になるはずである．\n",
    "\n",
    "```\n",
    "始める  で      ここで\n",
    "見る    は を   吾輩は ものを\n",
    "```"
   ]
  },
  {
   "cell_type": "code",
   "execution_count": 19,
   "metadata": {},
   "outputs": [],
   "source": [
    "with open(\"result46.txt\", \"w\") as out:\n",
    "    for sl in nl:\n",
    "        for chunk in sl:\n",
    "            if len(chunk.srcs)!=0 and chunk.include_verb():\n",
    "                verb=chunk.get_first_verb()\n",
    "                pps=[]\n",
    "                for src_chunk in chunk.srcs:\n",
    "                    pp = sl[src_chunk].get_last_pparticle()\n",
    "                    if pp!=\"\" and not pp in pps:\n",
    "                        pps.append((pp, sl[src_chunk].chunk_string_without_sign()))\n",
    "                pps.sort()\n",
    "                if len(pps)!=0:\n",
    "                    print(verb+\"\\t\"+\" \".join([i[0] for i in pps])+\"\\t\"+\" \".join([i[1] for i in pps]), file=out)"
   ]
  },
  {
   "cell_type": "code",
   "execution_count": 20,
   "metadata": {},
   "outputs": [
    {
     "name": "stdout",
     "output_type": "stream",
     "text": [
      "生れる\tで\tどこで\r\n",
      "つく\tか が\t生れたか 見当が\r\n",
      "泣く\tで\t所で\r\n",
      "する\tて は\t泣いて いた事だけは\r\n",
      "始める\tで\tここで\r\n",
      "見る\tは を\t吾輩は ものを\r\n",
      "聞く\tで\tあとで\r\n",
      "捕える\tを\t我々を\r\n",
      "煮る\tて\t捕えて\r\n",
      "食う\tて\t煮て\r\n"
     ]
    }
   ],
   "source": [
    "!head ./result46.txt"
   ]
  },
  {
   "cell_type": "markdown",
   "metadata": {},
   "source": [
    "## 47. 機能動詞構文のマイニング\n",
    "動詞のヲ格にサ変接続名詞が入っている場合のみに着目したい．46のプログラムを以下の仕様を満たすように改変せよ．\n",
    "\n",
    "- 「サ変接続名詞+を（助詞）」で構成される文節が動詞に係る場合のみを対象とする\n",
    "- 述語は「サ変接続名詞+を+動詞の基本形」とし，文節中に複数の動詞があるときは，最左の動詞を用いる\n",
    "- 述語に係る助詞（文節）が複数あるときは，すべての助詞をスペース区切りで辞書順に並べる\n",
    "- 述語に係る文節が複数ある場合は，すべての項をスペース区切りで並べる（助詞の並び順と揃えよ）\n",
    "\n",
    "例えば「別段くるにも及ばんさと、主人は手紙に返事をする。」という文から，以下の出力が得られるはずである．\n",
    "\n",
    "```\n",
    "返事をする      と に は        及ばんさと 手紙に 主人は\n",
    "```\n",
    "\n",
    "このプログラムの出力をファイルに保存し，以下の事項をUNIXコマンドを用いて確認せよ．\n",
    "\n",
    "- コーパス中で頻出する述語（サ変接続名詞+を+動詞）\n",
    "- コーパス中で頻出する述語と助詞パターン"
   ]
  },
  {
   "cell_type": "code",
   "execution_count": 21,
   "metadata": {},
   "outputs": [],
   "source": [
    "with open(\"result47.txt\", \"w\") as out:\n",
    "    for sl in nl:\n",
    "        for i,chunk in enumerate(sl):\n",
    "            if chunk.dst!=-1 and sl[chunk.dst].include_verb() and len(chunk.morphs)==2 and chunk.morphs[0].pos1==\"サ変接続\" and chunk.morphs[1].surface==\"を\":\n",
    "                pps=[]\n",
    "                for src_chunk in chunk.srcs:\n",
    "                    pp = sl[src_chunk].get_last_pparticle()\n",
    "                    if pp!=\"\" and not pp in pps:\n",
    "                        pps.append((pp,sl[src_chunk].chunk_string_without_sign()))\n",
    "                for src_chunk in sl[chunk.dst].srcs:\n",
    "                    if src_chunk != i:\n",
    "                        pp = sl[src_chunk].get_last_pparticle()\n",
    "                        if pp!=\"\" and not pp in pps:\n",
    "                            pps.append((pp,sl[src_chunk].chunk_string_without_sign()))\n",
    "                pps.sort()\n",
    "                \n",
    "                print(sl[i].chunk_string_without_sign() + sl[chunk.dst].get_first_verb(), end=\"\", file=out)\n",
    "                if len(pps)!=0:\n",
    "                    print(\"\\t\"+\" \".join([i[0] for i in pps])+\"\\t\"+\" \".join([i[1] for i in pps]), file=out)\n",
    "                else:\n",
    "                    print(file=out)"
   ]
  },
  {
   "cell_type": "code",
   "execution_count": 22,
   "metadata": {},
   "outputs": [
    {
     "name": "stdout",
     "output_type": "stream",
     "text": [
      "決心をする\tと\tこうと\r\n",
      "返報をする\tんで\t偸んで\r\n",
      "昼寝をする\r\n",
      "昼寝をする\tが\t彼が\r\n",
      "迫害を加える\tて\t追い廻して\r\n",
      "話をする\r\n",
      "投書をする\tて へ\tやって ほととぎすへ\r\n",
      "話をする\tに の\t時に 下のような\r\n",
      "写生をする\r\n",
      "昼寝をする\tて\t出て\r\n"
     ]
    }
   ],
   "source": [
    "!head ./result47.txt"
   ]
  },
  {
   "cell_type": "code",
   "execution_count": 23,
   "metadata": {},
   "outputs": [
    {
     "name": "stdout",
     "output_type": "stream",
     "text": [
      "     29 返事をする\r\n",
      "     21 挨拶をする\r\n",
      "     14 話をする\r\n",
      "     14 真似をする\r\n",
      "     11 喧嘩をする\r\n",
      "      8 質問をする\r\n",
      "      7 運動をする\r\n",
      "      6 話を聞く\r\n",
      "      6 昼寝をする\r\n",
      "      5 質問をかける\r\n"
     ]
    }
   ],
   "source": [
    "cat ./result47.txt | cut -f 1 | sort | uniq -c | sort -r 2>/dev/null | head"
   ]
  },
  {
   "cell_type": "code",
   "execution_count": 24,
   "metadata": {},
   "outputs": [
    {
     "name": "stdout",
     "output_type": "stream",
     "text": [
      "      6 運動をする\r\n",
      "      6 真似をする\r\n",
      "      5 返事をする\tと\r\n",
      "      4 返事をする\tと は\r\n",
      "      4 返事をする\r\n",
      "      4 挨拶をする\tと\r\n",
      "      4 喧嘩をする\r\n",
      "      3 質問をかける\tと は\r\n",
      "      3 挨拶をする\tから\r\n",
      "      3 喧嘩をする\tと\r\n"
     ]
    }
   ],
   "source": [
    "cat ./result47.txt | cut -f 1,2 | sort | uniq -c | sort -r 2>/dev/null | head"
   ]
  },
  {
   "cell_type": "markdown",
   "metadata": {},
   "source": [
    "## 48. 名詞から根へのパスの抽出\n",
    "文中のすべての名詞を含む文節に対し，その文節から構文木の根に至るパスを抽出せよ． ただし，構文木上のパスは以下の仕様を満たすものとする．\n",
    "\n",
    "- 各文節は（表層形の）形態素列で表現する\n",
    "- パスの開始文節から終了文節に至るまで，各文節の表現を” -> “で連結する\n",
    "\n",
    "「吾輩はここで始めて人間というものを見た」という文（neko.txt.cabochaの8文目）から，次のような出力が得られるはずである．\n",
    "\n",
    "```\n",
    "吾輩は -> 見た\n",
    "ここで -> 始めて -> 人間という -> ものを -> 見た\n",
    "人間という -> ものを -> 見た\n",
    "ものを -> 見た\n",
    "```"
   ]
  },
  {
   "cell_type": "code",
   "execution_count": 25,
   "metadata": {},
   "outputs": [
    {
     "name": "stdout",
     "output_type": "stream",
     "text": [
      "一\n",
      "\n",
      "吾輩は -> 猫である\n",
      "猫である\n",
      "\n",
      "名前は -> 無い\n",
      "\n",
      "どこで -> 生れたか -> つかぬ\n",
      "見当が -> つかぬ\n",
      "\n",
      "何でも -> 薄暗い -> 所で -> 泣いて -> 記憶している\n",
      "所で -> 泣いて -> 記憶している\n",
      "ニャーニャー -> 泣いて -> 記憶している\n",
      "いた事だけは -> 記憶している\n",
      "記憶している\n",
      "\n",
      "吾輩は -> 見た\n",
      "ここで -> 始めて -> 人間という -> ものを -> 見た\n",
      "人間という -> ものを -> 見た\n",
      "ものを -> 見た\n",
      "\n",
      "あとで -> 聞くと -> 種族であったそうだ\n",
      "それは -> 種族であったそうだ\n",
      "書生という -> 人間中で -> 種族であったそうだ\n",
      "人間中で -> 種族であったそうだ\n",
      "一番 -> 獰悪な -> 種族であったそうだ\n",
      "獰悪な -> 種族であったそうだ\n",
      "種族であったそうだ\n",
      "\n",
      "書生というのは -> 話である\n",
      "我々を -> 捕えて -> 煮て -> 食うという -> 話である\n",
      "話である\n",
      "\n",
      "当時は -> なかったから -> 思わなかった\n",
      "何という -> 考も -> なかったから -> 思わなかった\n",
      "考も -> なかったから -> 思わなかった\n",
      "\n",
      "彼の -> 掌に -> 載せられて -> 持ち上げられた -> 時 -> フワフワした -> 感じが -> あったばかりである\n",
      "掌に -> 載せられて -> 持ち上げられた -> 時 -> フワフワした -> 感じが -> あったばかりである\n",
      "スーと -> 持ち上げられた -> 時 -> フワフワした -> 感じが -> あったばかりである\n",
      "時 -> フワフワした -> 感じが -> あったばかりである\n",
      "感じが -> あったばかりである\n",
      "\n"
     ]
    }
   ],
   "source": [
    "for sl in nl[:10]:\n",
    "        for chunk in sl:\n",
    "            if chunk.include_noun():\n",
    "                print(chunk.chunk_string_without_sign(), end=\"\")\n",
    "                now = chunk.dst\n",
    "                while now != -1:\n",
    "                    print(\" -> \" + sl[now].chunk_string_without_sign(), end=\"\")\n",
    "                    now = sl[now].dst\n",
    "                print(\"\")\n",
    "        print(\"\")"
   ]
  },
  {
   "cell_type": "markdown",
   "metadata": {},
   "source": [
    "## 49. 名詞間の係り受けパスの抽出\n",
    "文中のすべての名詞句のペアを結ぶ最短係り受けパスを抽出せよ．ただし，名詞句ペアの文節番号が$i$と$j(i<j)$のとき，係り受けパスは以下の仕様を満たすものとする．\n",
    "\n",
    "- 問題48と同様に，パスは開始文節から終了文節に至るまでの各文節の表現（表層形の形態素列）を” -> “で連結して表現する\n",
    "- 文節iとjに含まれる名詞句はそれぞれ，XとYに置換する\n",
    "\n",
    "また，係り受けパスの形状は，以下の2通りが考えられる．\n",
    "\n",
    "- 文節iから構文木の根に至る経路上に文節jが存在する場合: 文節iから文節jのパスを表示\n",
    "- 上記以外で，文節iと文節jから構文木の根に至る経路上で共通の文節kで交わる場合: 文節iから文節kに至る直前のパスと文節jから文節kに至る直前までのパス，文節kの内容を” | “で連結して表示\n",
    "\n",
    "例えば，「吾輩はここで始めて人間というものを見た。」という文（neko.txt.cabochaの8文目）から，次のような出力が得られるはずである．\n",
    "\n",
    "```\n",
    "Xは | Yで -> 始めて -> 人間という -> ものを | 見た\n",
    "Xは | Yという -> ものを | 見た\n",
    "Xは | Yを | 見た\n",
    "Xで -> 始めて -> Y\n",
    "Xで -> 始めて -> 人間という -> Y\n",
    "Xという -> Y\n",
    "```"
   ]
  },
  {
   "cell_type": "code",
   "execution_count": 26,
   "metadata": {},
   "outputs": [],
   "source": [
    "def chunk_replace_noun(chunk, string):\n",
    "    ans = []\n",
    "    fl = 1\n",
    "    for morph in chunk.morphs:\n",
    "        if morph.pos == \"記号\":\n",
    "            continue\n",
    "        elif morph.pos ==\"名詞\" and fl:\n",
    "            ans.append(string)\n",
    "            fl = 0\n",
    "        elif morph.pos ==\"名詞\":\n",
    "            continue\n",
    "        else:\n",
    "            ans.append(morph.surface)\n",
    "    return \"\".join(ans)"
   ]
  },
  {
   "cell_type": "code",
   "execution_count": 27,
   "metadata": {},
   "outputs": [
    {
     "name": "stdout",
     "output_type": "stream",
     "text": [
      "\n",
      "Xは -> Y\n",
      "\n",
      "\n",
      "Xで -> 生れたか | Yが | つかぬ\n",
      "\n",
      "Xでも -> 薄暗い -> Y\n",
      "Xでも -> 薄暗い -> 所で | Y | 泣いて -> 記憶している\n",
      "Xでも -> 薄暗い -> 所で -> 泣いて | Yだけは | 記憶している\n",
      "Xでも -> 薄暗い -> 所で -> 泣いて -> Y\n",
      "Xで | Y | 泣いて -> 記憶している\n",
      "Xで -> 泣いて | Yだけは | 記憶している\n",
      "Xで -> 泣いて -> Y\n",
      "X -> 泣いて | Yだけは | 記憶している\n",
      "X -> 泣いて -> Y\n",
      "Xだけは -> Y\n",
      "\n",
      "Xは | Yで -> 始めて -> 人間という -> ものを | 見た\n",
      "Xは | Yという -> ものを | 見た\n",
      "Xは | Yを | 見た\n",
      "Xで -> 始めて -> Y\n",
      "Xで -> 始めて -> 人間という -> Y\n",
      "Xという -> Y\n",
      "\n",
      "Xで -> 聞くと | Yは | 種族であったそうだ\n",
      "Xで -> 聞くと | Yという -> 人間中で | 種族であったそうだ\n",
      "Xで -> 聞くと | Yで | 種族であったそうだ\n",
      "Xで -> 聞くと | Y -> 獰悪な | 種族であったそうだ\n",
      "Xで -> 聞くと | Yな | 種族であったそうだ\n",
      "Xで -> 聞くと -> Y\n",
      "Xは | Yという -> 人間中で | 種族であったそうだ\n",
      "Xは | Yで | 種族であったそうだ\n",
      "Xは | Y -> 獰悪な | 種族であったそうだ\n",
      "Xは | Yな | 種族であったそうだ\n",
      "Xは -> Y\n",
      "Xという -> Y\n",
      "Xという -> 人間中で | Y -> 獰悪な | 種族であったそうだ\n",
      "Xという -> 人間中で | Yな | 種族であったそうだ\n",
      "Xという -> 人間中で -> Y\n",
      "Xで | Y -> 獰悪な | 種族であったそうだ\n",
      "Xで | Yな | 種族であったそうだ\n",
      "Xで -> Y\n",
      "X -> Y\n",
      "X -> 獰悪な -> Y\n",
      "Xな -> Y\n",
      "\n",
      "Xというは | Yを -> 捕えて -> 煮て -> 食うという | 話である\n",
      "Xというは -> Y\n",
      "Xを -> 捕えて -> 煮て -> 食うという -> Y\n",
      "\n",
      "Xは | Yという -> 考も | なかったから -> 思わなかった\n",
      "Xは | Yも | なかったから -> 思わなかった\n",
      "Xという -> Y\n",
      "\n",
      "Xの -> Y\n",
      "Xの -> 掌に -> 載せられて | Yと | 持ち上げられた -> 時 -> フワフワした -> 感じが -> あったばかりである\n",
      "Xの -> 掌に -> 載せられて -> 持ち上げられた -> Y\n",
      "Xの -> 掌に -> 載せられて -> 持ち上げられた -> 時 -> フワフワした -> Y\n",
      "Xに -> 載せられて | Yと | 持ち上げられた -> 時 -> フワフワした -> 感じが -> あったばかりである\n",
      "Xに -> 載せられて -> 持ち上げられた -> Y\n",
      "Xに -> 載せられて -> 持ち上げられた -> 時 -> フワフワした -> Y\n",
      "Xと -> 持ち上げられた -> Y\n",
      "Xと -> 持ち上げられた -> 時 -> フワフワした -> Y\n",
      "X -> フワフワした -> Y\n",
      "\n"
     ]
    }
   ],
   "source": [
    "for sl in nl[:10]:\n",
    "        path_dict = {}\n",
    "        for chunk_num,chunk in enumerate(sl):\n",
    "            if chunk.include_noun():\n",
    "                path = [chunk_num]\n",
    "                now = chunk.dst\n",
    "                while now != -1:\n",
    "                    path.append(now)\n",
    "                    now = sl[now].dst\n",
    "                path_dict[chunk_num] = path\n",
    "\n",
    "        for srcx in path_dict:\n",
    "            for srcy in path_dict:\n",
    "                if srcx < srcy:\n",
    "                    pathx = path_dict[srcx]\n",
    "                    pathy = path_dict[srcy]\n",
    "                    if srcy in pathx:\n",
    "                        print(chunk_replace_noun(sl[srcx],\"X\"), end=\"\")\n",
    "                        now = pathx[1]\n",
    "                        while now != srcy:\n",
    "                            print(\" -> \" + sl[now].chunk_string_without_sign(), end=\"\")\n",
    "                            now = sl[now].dst\n",
    "                        print(\" -> Y\")\n",
    "                    else:\n",
    "                        length = 0\n",
    "                        while pathx[-length-1:] == pathy[-length-1:]:\n",
    "                            length+=1\n",
    "                        path_same = path_dict[srcx][-length:]\n",
    "                        pathx = pathx[:len(pathx)-length]\n",
    "                        pathy = pathy[:len(pathy)-length]\n",
    "                        print(chunk_replace_noun(sl[srcx],\"X\"), end=\"\")\n",
    "                        for i in pathx[1:]:\n",
    "                            print(\" -> \" + sl[i].chunk_string_without_sign(), end=\"\")\n",
    "                        print(\" | \", end=\"\")\n",
    "                        print(chunk_replace_noun(sl[srcy],\"Y\"), end=\"\")\n",
    "                        for i in pathy[1:]:\n",
    "                            print(\" -> \" + sl[i].chunk_string_without_sign(), end=\"\")\n",
    "                        print(\" | \", end=\"\")\n",
    "                        print(sl[path_same[0]].chunk_string_without_sign(), end=\"\")\n",
    "                        for i in path_same[1:]:\n",
    "                            print(\" -> \" + sl[i].chunk_string_without_sign(), end=\"\")\n",
    "                        print()\n",
    "        print()"
   ]
  },
  {
   "cell_type": "code",
   "execution_count": null,
   "metadata": {},
   "outputs": [],
   "source": []
  }
 ],
 "metadata": {
  "kernelspec": {
   "display_name": "Python 3",
   "language": "python",
   "name": "python3"
  },
  "language_info": {
   "codemirror_mode": {
    "name": "ipython",
    "version": 3
   },
   "file_extension": ".py",
   "mimetype": "text/x-python",
   "name": "python",
   "nbconvert_exporter": "python",
   "pygments_lexer": "ipython3",
   "version": "3.6.9"
  }
 },
 "nbformat": 4,
 "nbformat_minor": 2
}
