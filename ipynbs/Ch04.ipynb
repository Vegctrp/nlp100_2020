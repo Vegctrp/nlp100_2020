{
 "cells": [
  {
   "cell_type": "markdown",
   "metadata": {},
   "source": [
    "# 第4章: 形態素解析"
   ]
  },
  {
   "cell_type": "code",
   "execution_count": 1,
   "metadata": {},
   "outputs": [
    {
     "name": "stdout",
     "output_type": "stream",
     "text": [
      "Will not apply HSTS. The HSTS database must be a regular and non-world-writable file.\n",
      "ERROR: could not open HSTS store at '/home/altair626/.wget-hsts'. HSTS will be disabled.\n",
      "--2020-04-20 19:49:12--  https://nlp100.github.io/data/neko.txt\n",
      "Resolving nlp100.github.io (nlp100.github.io)... 185.199.108.153, 185.199.111.153, 185.199.110.153, ...\n",
      "Connecting to nlp100.github.io (nlp100.github.io)|185.199.108.153|:443... connected.\n",
      "HTTP request sent, awaiting response... 200 OK\n",
      "Length: 965825 (943K) [text/plain]\n",
      "Saving to: ‘neko.txt’\n",
      "\n",
      "neko.txt            100%[===================>] 943.19K  --.-KB/s    in 0.07s   \n",
      "\n",
      "2020-04-20 19:49:13 (13.3 MB/s) - ‘neko.txt’ saved [965825/965825]\n",
      "\n"
     ]
    }
   ],
   "source": [
    "!wget https://nlp100.github.io/data/neko.txt"
   ]
  },
  {
   "cell_type": "code",
   "execution_count": 2,
   "metadata": {},
   "outputs": [],
   "source": [
    "!mecab <neko.txt > neko.txt.mecab"
   ]
  },
  {
   "cell_type": "markdown",
   "metadata": {},
   "source": [
    "## 30. 形態素解析結果の読み込み\n",
    "形態素解析結果（neko.txt.mecab）を読み込むプログラムを実装せよ．ただし，各形態素は表層形（surface），基本形（base），品詞（pos），品詞細分類1（pos1）をキーとするマッピング型に格納し，1文を形態素（マッピング型）のリストとして表現せよ．第4章の残りの問題では，ここで作ったプログラムを活用せよ．"
   ]
  },
  {
   "cell_type": "code",
   "execution_count": 3,
   "metadata": {},
   "outputs": [],
   "source": [
    "def make_novellist():\n",
    "    with open(\"./neko.txt.mecab\") as intxt:\n",
    "        alltxt = intxt.read()\n",
    "        novel_list = []\n",
    "        for sentence in alltxt.split(\"EOS\"):\n",
    "            if sentence != \"\\n\":\n",
    "                sentence_list = []\n",
    "                for word in sentence.split(\"\\n\"):\n",
    "                    if word != \"\":\n",
    "                        winfo = {}\n",
    "                        winfo[\"surface\"] = word.split(\"\\t\")[0]\n",
    "                        winfo[\"base\"] = word.split(\"\\t\")[1].split(\",\")[6]\n",
    "                        winfo[\"pos\"] = word.split(\"\\t\")[1].split(\",\")[0]\n",
    "                        winfo[\"pos1\"] = word.split(\"\\t\")[1].split(\",\")[1]\n",
    "                        sentence_list.append(winfo)\n",
    "                novel_list.append(sentence_list)\n",
    "    return novel_list\n",
    "\n",
    "novel_list = make_novellist()"
   ]
  },
  {
   "cell_type": "code",
   "execution_count": 4,
   "metadata": {},
   "outputs": [
    {
     "name": "stdout",
     "output_type": "stream",
     "text": [
      "[{'surface': '\\u3000', 'base': '\\u3000', 'pos': '記号', 'pos1': '空白'}, {'surface': '吾輩', 'base': '吾輩', 'pos': '名詞', 'pos1': '代名詞'}, {'surface': 'は', 'base': 'は', 'pos': '助詞', 'pos1': '係助詞'}, {'surface': '猫', 'base': '猫', 'pos': '名詞', 'pos1': '一般'}, {'surface': 'で', 'base': 'だ', 'pos': '助動詞', 'pos1': '*'}, {'surface': 'ある', 'base': 'ある', 'pos': '助動詞', 'pos1': '*'}, {'surface': '。', 'base': '。', 'pos': '記号', 'pos1': '句点'}]\n"
     ]
    }
   ],
   "source": [
    "print(novel_list[1])"
   ]
  },
  {
   "cell_type": "markdown",
   "metadata": {},
   "source": [
    "## 31. 動詞\n",
    "動詞の表層形をすべて抽出せよ．"
   ]
  },
  {
   "cell_type": "code",
   "execution_count": 5,
   "metadata": {},
   "outputs": [
    {
     "name": "stdout",
     "output_type": "stream",
     "text": [
      "生れ\n",
      "つか\n",
      "し\n",
      "泣い\n",
      "し\n",
      "いる\n",
      "始め\n",
      "見\n",
      "聞く\n",
      "捕え\n",
      "煮\n",
      "食う\n",
      "思わ\n",
      "載せ\n",
      "られ\n",
      "持ち上げ\n",
      "られ\n",
      "し\n",
      "あっ\n",
      "落ちつい\n"
     ]
    }
   ],
   "source": [
    "verb_surfaces = []\n",
    "for sentence_list in novel_list:\n",
    "    for word_info in sentence_list:\n",
    "        if word_info[\"pos\"]==\"動詞\":\n",
    "            verb_surfaces.append(word_info[\"surface\"])\n",
    "\n",
    "for i in verb_surfaces[:20]:\n",
    "    print(i)"
   ]
  },
  {
   "cell_type": "markdown",
   "metadata": {},
   "source": [
    "## 32. 動詞の原形\n",
    "動詞の原形をすべて抽出せよ．"
   ]
  },
  {
   "cell_type": "code",
   "execution_count": 6,
   "metadata": {},
   "outputs": [
    {
     "name": "stdout",
     "output_type": "stream",
     "text": [
      "生れる\n",
      "つく\n",
      "する\n",
      "泣く\n",
      "する\n",
      "いる\n",
      "始める\n",
      "見る\n",
      "聞く\n",
      "捕える\n",
      "煮る\n",
      "食う\n",
      "思う\n",
      "載せる\n",
      "られる\n",
      "持ち上げる\n",
      "られる\n",
      "する\n",
      "ある\n",
      "落ちつく\n"
     ]
    }
   ],
   "source": [
    "verb_bases = []\n",
    "for sentence_list in novel_list:\n",
    "    for word_info in sentence_list:\n",
    "        if word_info[\"pos\"]==\"動詞\":\n",
    "            verb_bases.append(word_info[\"base\"])\n",
    "\n",
    "for i in verb_bases[:20]:\n",
    "    print(i)"
   ]
  },
  {
   "cell_type": "markdown",
   "metadata": {},
   "source": [
    "## 33. 「AのB」\n",
    "2つの名詞が「の」で連結されている名詞句を抽出せよ．"
   ]
  },
  {
   "cell_type": "code",
   "execution_count": 7,
   "metadata": {},
   "outputs": [
    {
     "name": "stdout",
     "output_type": "stream",
     "text": [
      "彼の掌\n",
      "掌の上\n",
      "書生の顔\n",
      "はずの顔\n",
      "顔の真中\n",
      "穴の中\n",
      "書生の掌\n",
      "掌の裏\n",
      "何の事\n",
      "肝心の母親\n",
      "藁の上\n",
      "笹原の中\n",
      "池の前\n",
      "池の上\n",
      "一樹の蔭\n",
      "垣根の穴\n",
      "隣家の三\n",
      "時の通路\n",
      "一刻の猶予\n",
      "家の内\n"
     ]
    }
   ],
   "source": [
    "no_concats = []\n",
    "for sentence_list in novel_list:\n",
    "    for i in range(len(sentence_list)-2):\n",
    "        if sentence_list[i][\"pos\"]==\"名詞\" and sentence_list[i+1][\"surface\"]==\"の\" and sentence_list[i+2][\"pos\"]==\"名詞\":\n",
    "            no_concats.append(sentence_list[i][\"surface\"]+sentence_list[i+1][\"surface\"]+sentence_list[i+2][\"surface\"])\n",
    "\n",
    "for i in no_concats[:20]:\n",
    "    print(i)"
   ]
  },
  {
   "cell_type": "markdown",
   "metadata": {},
   "source": [
    "## 34. 名詞の連接\n",
    "名詞の連接（連続して出現する名詞）を最長一致で抽出せよ．"
   ]
  },
  {
   "cell_type": "code",
   "execution_count": 8,
   "metadata": {},
   "outputs": [
    {
     "name": "stdout",
     "output_type": "stream",
     "text": [
      "人間中\n",
      "一番獰悪\n",
      "時妙\n",
      "一毛\n",
      "その後猫\n",
      "一度\n",
      "ぷうぷうと煙\n",
      "邸内\n",
      "三毛\n",
      "書生以外\n",
      "四五遍\n",
      "この間おさん\n",
      "三馬\n",
      "御台所\n",
      "まま奥\n",
      "住家\n",
      "終日書斎\n",
      "勉強家\n",
      "勉強家\n",
      "勤勉家\n"
     ]
    }
   ],
   "source": [
    "noun_concats = []\n",
    "for sentence_list in novel_list:\n",
    "    i=0\n",
    "    string = \"\"\n",
    "    while i < len(sentence_list):\n",
    "        if sentence_list[i][\"pos\"]==\"名詞\" and i<len(sentence_list)-1 and sentence_list[i+1][\"pos\"]==\"名詞\":\n",
    "            string = sentence_list[i][\"surface\"]\n",
    "            while i+1<len(sentence_list) and sentence_list[i+1][\"pos\"]==\"名詞\":\n",
    "                i+=1\n",
    "                string += sentence_list[i][\"surface\"]\n",
    "            noun_concats.append(string)\n",
    "        i+=1\n",
    "\n",
    "for i in noun_concats[:20]:\n",
    "    print(i)"
   ]
  },
  {
   "cell_type": "markdown",
   "metadata": {},
   "source": [
    "## 35. 単語の出現頻度\n",
    "文章中に出現する単語とその出現頻度を求め，出現頻度の高い順に並べよ．"
   ]
  },
  {
   "cell_type": "code",
   "execution_count": 9,
   "metadata": {},
   "outputs": [
    {
     "name": "stdout",
     "output_type": "stream",
     "text": [
      "('の', 9194)\n",
      "('。', 7486)\n",
      "('て', 6868)\n",
      "('、', 6772)\n",
      "('は', 6420)\n",
      "('に', 6243)\n",
      "('を', 6071)\n",
      "('と', 5508)\n",
      "('が', 5337)\n",
      "('た', 3988)\n",
      "('で', 3806)\n",
      "('「', 3231)\n",
      "('」', 3225)\n",
      "('も', 2479)\n",
      "('ない', 2390)\n",
      "('だ', 2363)\n",
      "('し', 2322)\n",
      "('から', 2032)\n",
      "('ある', 1728)\n",
      "('な', 1613)\n"
     ]
    }
   ],
   "source": [
    "freq_dic = {}\n",
    "for sentence_list in novel_list:\n",
    "    for word_info in sentence_list:\n",
    "        if word_info[\"surface\"] in freq_dic:\n",
    "            freq_dic[word_info[\"surface\"]] += 1\n",
    "        else:\n",
    "            freq_dic[word_info[\"surface\"]] = 1\n",
    "sorted_freq_dic=sorted(freq_dic.items(), key=lambda e:e[1],reverse=True)\n",
    "    \n",
    "for i in sorted_freq_dic[:20]:\n",
    "    print(i)"
   ]
  },
  {
   "cell_type": "markdown",
   "metadata": {},
   "source": [
    "## 36. 頻度上位10語\n",
    "出現頻度が高い10語とその出現頻度をグラフ（例えば棒グラフなど）で表示せよ．"
   ]
  },
  {
   "cell_type": "code",
   "execution_count": 10,
   "metadata": {},
   "outputs": [],
   "source": [
    "import matplotlib.pyplot as plt\n",
    "from matplotlib.font_manager import FontProperties\n",
    "fp = FontProperties(fname='/usr/share/fonts/TakaoPGothic.ttf', size=14)"
   ]
  },
  {
   "cell_type": "code",
   "execution_count": 11,
   "metadata": {},
   "outputs": [
    {
     "name": "stdout",
     "output_type": "stream",
     "text": [
      "('の', 9194)\n",
      "('。', 7486)\n",
      "('て', 6868)\n",
      "('、', 6772)\n",
      "('は', 6420)\n",
      "('に', 6243)\n",
      "('を', 6071)\n",
      "('と', 5508)\n",
      "('が', 5337)\n",
      "('た', 3988)\n"
     ]
    },
    {
     "data": {
      "image/png": "[encoded data removed]",
      "text/plain": [
       "<Figure size 432x288 with 1 Axes>"
      ]
     },
     "metadata": {},
     "output_type": "display_data"
    }
   ],
   "source": [
    "label = []\n",
    "left = [i for i in range(10)]\n",
    "value = []\n",
    "for i in sorted_freq_dic[:10]:\n",
    "    print(i)\n",
    "    label.append(i[0])\n",
    "    value.append(i[1])\n",
    "plt.bar(left, value, width=0.8)\n",
    "plt.xticks(left, label, fontproperties=fp)\n",
    "plt.title(\"036\")\n",
    "plt.xlabel(\"出現頻度が高い10形態素\",fontproperties=fp)\n",
    "plt.ylabel(\"出現頻度\",fontproperties=fp)\n",
    "plt.show()\n",
    "#plt.savefig(\"figure36.png\")"
   ]
  },
  {
   "cell_type": "markdown",
   "metadata": {},
   "source": [
    "## 37. 「猫」と共起頻度の高い上位10語\n",
    "「猫」とよく共起する（共起頻度が高い）10語とその出現頻度をグラフ（例えば棒グラフなど）で表示せよ．"
   ]
  },
  {
   "cell_type": "code",
   "execution_count": 12,
   "metadata": {},
   "outputs": [
    {
     "name": "stdout",
     "output_type": "stream",
     "text": [
      "('の', 391)\n",
      "('は', 272)\n",
      "('、', 252)\n",
      "('に', 250)\n",
      "('を', 232)\n",
      "('て', 229)\n",
      "('。', 209)\n",
      "('と', 202)\n",
      "('が', 180)\n",
      "('で', 170)\n"
     ]
    },
    {
     "data": {
      "image/png": "[encoded data removed]",
      "text/plain": [
       "<Figure size 432x288 with 1 Axes>"
      ]
     },
     "metadata": {},
     "output_type": "display_data"
    }
   ],
   "source": [
    "neko_coocfreq_dic = {}\n",
    "for sentence_list in novel_list:\n",
    "    flag=0\n",
    "    for word_info in sentence_list:\n",
    "        if word_info[\"surface\"]==\"猫\":\n",
    "            flag=1\n",
    "    if flag:\n",
    "        for word_info in sentence_list:\n",
    "            if word_info[\"surface\"] != \"猫\":\n",
    "                if word_info[\"surface\"] in neko_coocfreq_dic:\n",
    "                    neko_coocfreq_dic[word_info[\"surface\"]] += 1\n",
    "                else:\n",
    "                    neko_coocfreq_dic[word_info[\"surface\"]] = 1\n",
    "sorted_nekofreq_dic=sorted(neko_coocfreq_dic.items(), key=lambda e:e[1],reverse=True)\n",
    "    \n",
    "label = []\n",
    "left = [i for i in range(10)]\n",
    "value = []\n",
    "for i in sorted_nekofreq_dic[:10]:\n",
    "    print(i)\n",
    "    label.append(i[0])\n",
    "    value.append(i[1])\n",
    "plt.bar(left, value, width=0.8)\n",
    "plt.xticks(left, label, fontproperties=fp)\n",
    "plt.title(\"037\")\n",
    "plt.xlabel(\"猫との共起頻度が高い10形態素\",fontproperties=fp)\n",
    "plt.ylabel(\"出現頻度\",fontproperties=fp)\n",
    "plt.show()\n",
    "#plt.savefig(\"figure37.png\")"
   ]
  },
  {
   "cell_type": "markdown",
   "metadata": {},
   "source": [
    "## 38. ヒストグラム\n",
    "単語の出現頻度のヒストグラム（横軸に出現頻度，縦軸に出現頻度をとる単語の種類数を棒グラフで表したもの）を描け．"
   ]
  },
  {
   "cell_type": "code",
   "execution_count": 13,
   "metadata": {},
   "outputs": [
    {
     "data": {
      "image/png": "[encoded data removed]",
      "text/plain": [
       "<Figure size 432x288 with 1 Axes>"
      ]
     },
     "metadata": {},
     "output_type": "display_data"
    },
    {
     "data": {
      "image/png": "[encoded data removed]",
      "text/plain": [
       "<Figure size 432x288 with 1 Axes>"
      ]
     },
     "metadata": {},
     "output_type": "display_data"
    }
   ],
   "source": [
    "value = []\n",
    "for i in sorted_freq_dic:\n",
    "    value.append(i[1])\n",
    "plt.hist(value, bins=100, range=(1,100))\n",
    "plt.title(\"038\")\n",
    "plt.xlabel(\"出現頻度\",fontproperties=fp)\n",
    "plt.ylabel(\"単語数\",fontproperties=fp)\n",
    "#plt.savefig(\"figure38.png\")\n",
    "plt.show()\n",
    "\n",
    "plt.hist(value, bins=100, range=(1,10000), log=True)\n",
    "plt.title(\"038\")\n",
    "plt.xlabel(\"出現頻度\",fontproperties=fp)\n",
    "plt.ylabel(\"単語数\",fontproperties=fp)\n",
    "#plt.savefig(\"figure38-log.png\")\n",
    "plt.show()"
   ]
  },
  {
   "cell_type": "markdown",
   "metadata": {},
   "source": [
    "## 39. Zipfの法則\n",
    "単語の出現頻度順位を横軸，その出現頻度を縦軸として，両対数グラフをプロットせよ．"
   ]
  },
  {
   "cell_type": "code",
   "execution_count": 14,
   "metadata": {},
   "outputs": [
    {
     "data": {
      "image/png": "[encoded data removed]",
      "text/plain": [
       "<Figure size 432x288 with 1 Axes>"
      ]
     },
     "metadata": {},
     "output_type": "display_data"
    }
   ],
   "source": [
    "value = []\n",
    "for i in sorted_freq_dic:\n",
    "    value.append(i[1])\n",
    "rank = [i for i in range(1,len(value)+1)]\n",
    "\n",
    "plt.scatter(rank,value, c=\"r\")\n",
    "plt.title(\"039\")\n",
    "plt.xscale(\"log\")\n",
    "plt.yscale(\"log\")\n",
    "plt.xlabel(\"出現頻度順位\",fontproperties=fp)\n",
    "plt.ylabel(\"出現頻度\",fontproperties=fp)\n",
    "#plt.savefig(\"figure39.png\")\n",
    "plt.show()"
   ]
  },
  {
   "cell_type": "code",
   "execution_count": null,
   "metadata": {},
   "outputs": [],
   "source": []
  }
 ],
 "metadata": {
  "kernelspec": {
   "display_name": "Python 3",
   "language": "python",
   "name": "python3"
  },
  "language_info": {
   "codemirror_mode": {
    "name": "ipython",
    "version": 3
   },
   "file_extension": ".py",
   "mimetype": "text/x-python",
   "name": "python",
   "nbconvert_exporter": "python",
   "pygments_lexer": "ipython3",
   "version": "3.6.9"
  }
 },
 "nbformat": 4,
 "nbformat_minor": 2
}
