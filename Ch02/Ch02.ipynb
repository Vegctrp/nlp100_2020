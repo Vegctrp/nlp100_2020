{
 "cells": [
  {
   "cell_type": "markdown",
   "metadata": {},
   "source": [
    "# 第2章: UNIXコマンド"
   ]
  },
  {
   "cell_type": "code",
   "execution_count": 1,
   "metadata": {
    "scrolled": true
   },
   "outputs": [
    {
     "name": "stdout",
     "output_type": "stream",
     "text": [
      "Will not apply HSTS. The HSTS database must be a regular and non-world-writable file.\n",
      "ERROR: could not open HSTS store at '/home/altair626/.wget-hsts'. HSTS will be disabled.\n",
      "--2020-04-12 22:26:10--  https://nlp100.github.io/data/popular-names.txt\n",
      "Resolving nlp100.github.io (nlp100.github.io)... 185.199.108.153, 185.199.110.153, 185.199.109.153, ...\n",
      "Connecting to nlp100.github.io (nlp100.github.io)|185.199.108.153|:443... connected.\n",
      "HTTP request sent, awaiting response... 200 OK\n",
      "Length: 55026 (54K) [text/plain]\n",
      "Saving to: ‘popular-names.txt.1’\n",
      "\n",
      "popular-names.txt.1 100%[===================>]  53.74K  --.-KB/s    in 0.009s  \n",
      "\n",
      "2020-04-12 22:26:10 (5.82 MB/s) - ‘popular-names.txt.1’ saved [55026/55026]\n",
      "\n"
     ]
    }
   ],
   "source": [
    "!wget https://nlp100.github.io/data/popular-names.txt"
   ]
  },
  {
   "cell_type": "code",
   "execution_count": 2,
   "metadata": {},
   "outputs": [],
   "source": [
    "with open(\"popular-names.txt\", \"r\") as intxt:\n",
    "    txtl = intxt.readlines()"
   ]
  },
  {
   "cell_type": "markdown",
   "metadata": {},
   "source": [
    "## 10. 行数のカウント\n",
    "行数をカウントせよ．確認にはwcコマンドを用いよ．"
   ]
  },
  {
   "cell_type": "code",
   "execution_count": 3,
   "metadata": {},
   "outputs": [
    {
     "name": "stdout",
     "output_type": "stream",
     "text": [
      "2780\n"
     ]
    }
   ],
   "source": [
    "def p10():\n",
    "    print(len(txtl), file=env)\n",
    "    \n",
    "env=None\n",
    "p10()"
   ]
  },
  {
   "cell_type": "code",
   "execution_count": 4,
   "metadata": {},
   "outputs": [],
   "source": [
    "with open(\"result10.txt\", \"w\") as env:\n",
    "    p10()"
   ]
  },
  {
   "cell_type": "code",
   "execution_count": 5,
   "metadata": {},
   "outputs": [],
   "source": [
    "%%bash\n",
    "diff <(wc -l ./popular-names.txt | cut -f 1 -d ' ') result10.txt"
   ]
  },
  {
   "cell_type": "markdown",
   "metadata": {},
   "source": [
    "## 11. タブをスペースに置換\n",
    "タブ1文字につきスペース1文字に置換せよ．確認にはsedコマンド，trコマンド，もしくはexpandコマンドを用いよ．"
   ]
  },
  {
   "cell_type": "code",
   "execution_count": 6,
   "metadata": {},
   "outputs": [],
   "source": [
    "def p11():\n",
    "    spt = [\" \".join(txt.split(\"\\t\")) for txt in txtl]\n",
    "    for line in spt:\n",
    "        print(line, end=\"\", file=env)"
   ]
  },
  {
   "cell_type": "code",
   "execution_count": 7,
   "metadata": {},
   "outputs": [],
   "source": [
    "with open(\"result11.txt\", \"w\") as env:\n",
    "    p11()"
   ]
  },
  {
   "cell_type": "code",
   "execution_count": 8,
   "metadata": {},
   "outputs": [],
   "source": [
    "%%bash\n",
    "diff result11.txt <(sed -e 's/\\t/ /g' ./popular-names.txt)\n",
    "diff result11.txt <(cat ./popular-names.txt | tr \"\\t\" \" \")\n",
    "diff result11.txt <(expand -t 1 ./popular-names.txt)"
   ]
  },
  {
   "cell_type": "markdown",
   "metadata": {},
   "source": [
    "## 12. 1列目をcol1.txtに，2列目をcol2.txtに保存\n",
    "各行の1列目だけを抜き出したものをcol1.txtに，2列目だけを抜き出したものをcol2.txtとしてファイルに保存せよ．確認にはcutコマンドを用いよ．"
   ]
  },
  {
   "cell_type": "code",
   "execution_count": 9,
   "metadata": {},
   "outputs": [],
   "source": [
    "def p12_1():\n",
    "    for j in [i.split(\"\\t\")[0] for i in txtl]:\n",
    "        print(j, file=env)\n",
    "\n",
    "def p12_2():    \n",
    "    for j in [i.split(\"\\t\")[1] for i in txtl]:\n",
    "        print(j, file=env)"
   ]
  },
  {
   "cell_type": "code",
   "execution_count": 10,
   "metadata": {},
   "outputs": [],
   "source": [
    "with open(\"col1.txt\", \"w\") as env:\n",
    "    p12_1()\n",
    "with open(\"col2.txt\", \"w\") as env:\n",
    "    p12_2()"
   ]
  },
  {
   "cell_type": "code",
   "execution_count": 11,
   "metadata": {},
   "outputs": [],
   "source": [
    "%%bash\n",
    "diff col1.txt <(cut -f 1 ./popular-names.txt)\n",
    "diff col2.txt <(cut -f 2 ./popular-names.txt)"
   ]
  },
  {
   "cell_type": "markdown",
   "metadata": {},
   "source": [
    "## 13. col1.txtとcol2.txtをマージ\n",
    "12で作ったcol1.txtとcol2.txtを結合し，元のファイルの1列目と2列目をタブ区切りで並べたテキストファイルを作成せよ．確認にはpasteコマンドを用いよ．"
   ]
  },
  {
   "cell_type": "code",
   "execution_count": 12,
   "metadata": {},
   "outputs": [],
   "source": [
    "with open(\"col1.txt\", \"r\") as intxt:\n",
    "    txtl1 = intxt.readlines()\n",
    "with open(\"col2.txt\", \"r\") as intxt:\n",
    "    txtl2 = intxt.readlines()\n",
    "\n",
    "def p13():\n",
    "    for line in [a.strip(\"\\n\")+\"\\t\"+b.strip(\"\\n\") for a,b in zip(txtl1,txtl2)]:\n",
    "        print(line, file=env)"
   ]
  },
  {
   "cell_type": "code",
   "execution_count": 13,
   "metadata": {},
   "outputs": [],
   "source": [
    "with open(\"result13.txt\", \"w\") as env:\n",
    "    p13()"
   ]
  },
  {
   "cell_type": "code",
   "execution_count": 14,
   "metadata": {},
   "outputs": [],
   "source": [
    "%%bash\n",
    "diff result13.txt <(paste -d '\\t' col1.txt col2.txt)"
   ]
  },
  {
   "cell_type": "markdown",
   "metadata": {},
   "source": [
    "## 14. 先頭からN行を出力\n",
    "自然数Nをコマンドライン引数などの手段で受け取り，入力のうち先頭のN行だけを表示せよ．確認にはheadコマンドを用いよ．"
   ]
  },
  {
   "cell_type": "code",
   "execution_count": 15,
   "metadata": {},
   "outputs": [],
   "source": [
    "def p14(n):\n",
    "    for i in txtl[:n]:\n",
    "        print(i, end=\"\", file=env)"
   ]
  },
  {
   "cell_type": "code",
   "execution_count": 16,
   "metadata": {},
   "outputs": [],
   "source": [
    "with open(\"result14.txt\", \"w\") as env:\n",
    "    p14(3)"
   ]
  },
  {
   "cell_type": "code",
   "execution_count": 17,
   "metadata": {},
   "outputs": [],
   "source": [
    "%%bash\n",
    "diff result14.txt <(head -n 3 ./popular-names.txt)"
   ]
  },
  {
   "cell_type": "markdown",
   "metadata": {},
   "source": [
    "## 15. 末尾のN行を出力\n",
    "自然数Nをコマンドライン引数などの手段で受け取り，入力のうち末尾のN行だけを表示せよ．確認にはtailコマンドを用いよ．"
   ]
  },
  {
   "cell_type": "code",
   "execution_count": 18,
   "metadata": {},
   "outputs": [],
   "source": [
    "def p15(n):\n",
    "    for i in txtl[-n:]:\n",
    "        print(i, end=\"\", file=env)"
   ]
  },
  {
   "cell_type": "code",
   "execution_count": 19,
   "metadata": {},
   "outputs": [],
   "source": [
    "with open(\"result15.txt\", \"w\") as env:\n",
    "    p15(3)"
   ]
  },
  {
   "cell_type": "code",
   "execution_count": 20,
   "metadata": {},
   "outputs": [],
   "source": [
    "%%bash\n",
    "diff result15.txt <(tail -n 3 ./popular-names.txt)"
   ]
  },
  {
   "cell_type": "markdown",
   "metadata": {},
   "source": [
    "## 16. ファイルをN分割する\n",
    "自然数Nをコマンドライン引数などの手段で受け取り，入力のファイルを行単位でN分割せよ．同様の処理をsplitコマンドで実現せよ．"
   ]
  },
  {
   "cell_type": "code",
   "execution_count": 21,
   "metadata": {},
   "outputs": [],
   "source": [
    "def p16(n):\n",
    "    cll = [txtl[i:min(i+n, len(txtl))] for i in range(0,len(txtl),n)]\n",
    "    for i,cl in enumerate(cll):\n",
    "        with open(\"./rp-0\"+str(i), \"w\") as out:\n",
    "            print(\"\".join(cl), file=out, end=\"\")"
   ]
  },
  {
   "cell_type": "code",
   "execution_count": 22,
   "metadata": {},
   "outputs": [],
   "source": [
    "p16(1000)"
   ]
  },
  {
   "cell_type": "code",
   "execution_count": 23,
   "metadata": {},
   "outputs": [
    {
     "name": "stdout",
     "output_type": "stream",
     "text": [
      "2780\n",
      "3\n"
     ]
    }
   ],
   "source": [
    "%%bash\n",
    "n=1000\n",
    "\n",
    "row=`wc -l ./popular-names.txt | cut -f 1 -d \" \"`\n",
    "echo $row\n",
    "num=`expr $(($row-1)) / $n + 1`\n",
    "echo $num\n",
    "\n",
    "if [ $num -gt 10 ] ; then\n",
    "    echo \"error\"\n",
    "else\n",
    "    split -d -l $n ./popular-names.txt ./r1-\n",
    "    for ((i=0;i<$num;i++)); do\n",
    "        diff \"./r1-0${i}\" \"./rp-0${i}\"\n",
    "    done\n",
    "fi"
   ]
  },
  {
   "cell_type": "markdown",
   "metadata": {},
   "source": [
    "## 17. １列目の文字列の異なり\n",
    "1列目の文字列の種類（異なる文字列の集合）を求めよ．確認にはcut, sort, uniqコマンドを用いよ．"
   ]
  },
  {
   "cell_type": "code",
   "execution_count": 24,
   "metadata": {},
   "outputs": [],
   "source": [
    "def p17():\n",
    "    with open(\"./col1.txt\", \"r\") as intxt:\n",
    "        txtl1 = intxt.readlines()\n",
    "    print(\"\".join(sorted(list(set(txtl1)))), end=\"\", file=env)"
   ]
  },
  {
   "cell_type": "code",
   "execution_count": 25,
   "metadata": {},
   "outputs": [],
   "source": [
    "with open(\"result17.txt\", \"w\") as env:\n",
    "    p17()"
   ]
  },
  {
   "cell_type": "code",
   "execution_count": 26,
   "metadata": {},
   "outputs": [],
   "source": [
    "%%bash\n",
    "diff result17.txt <(cut -f 1 ./popular-names.txt | sort | uniq | sort)"
   ]
  },
  {
   "cell_type": "markdown",
   "metadata": {},
   "source": [
    "## 18. 各行を3コラム目の数値の降順にソート\n",
    "各行を3コラム目の数値の逆順で整列せよ（注意: 各行の内容は変更せずに並び替えよ）．確認にはsortコマンドを用いよ（この問題はコマンドで実行した時の結果と合わなくてもよい）．"
   ]
  },
  {
   "cell_type": "code",
   "execution_count": 27,
   "metadata": {},
   "outputs": [],
   "source": [
    "def p18():\n",
    "    nl = list(set([int(lt.split(\"\\t\")[2]) for lt in txtl]))\n",
    "    nl.sort(reverse=1)\n",
    "    print(\"\\n\".join([str(i) for i in nl]), file=env)"
   ]
  },
  {
   "cell_type": "code",
   "execution_count": 28,
   "metadata": {},
   "outputs": [],
   "source": [
    "with open(\"result18.txt\", \"w\") as env:\n",
    "    p18()"
   ]
  },
  {
   "cell_type": "code",
   "execution_count": 29,
   "metadata": {},
   "outputs": [],
   "source": [
    "%%bash\n",
    "diff result18.txt <(cut -f 3 ./popular-names.txt | sort | uniq | sort -r -n)"
   ]
  },
  {
   "cell_type": "markdown",
   "metadata": {},
   "source": [
    "## 19. 各行の1コラム目の文字列の出現頻度を求め，出現頻度の高い順に並べる\n",
    "各行の1列目の文字列の出現頻度を求め，その高い順に並べて表示せよ．確認にはcut, uniq, sortコマンドを用いよ．"
   ]
  },
  {
   "cell_type": "code",
   "execution_count": 30,
   "metadata": {},
   "outputs": [],
   "source": [
    "def p19():\n",
    "    dic = {}\n",
    "    for w in txtl1:\n",
    "        word = w.strip(\"\\n\")\n",
    "        if word in dic:\n",
    "            dic[word] = dic[word] + 1\n",
    "        else:\n",
    "            dic[word] = 1\n",
    "\n",
    "    dic_sorted = sorted(dic.items(), key=lambda x:(x[1],x[0]), reverse=1)\n",
    "    print(\"\\n\".join([i[0] for i in dic_sorted]), file=env)"
   ]
  },
  {
   "cell_type": "code",
   "execution_count": 31,
   "metadata": {},
   "outputs": [],
   "source": [
    "with open(\"result19.txt\", \"w\") as env:\n",
    "    p19()"
   ]
  },
  {
   "cell_type": "code",
   "execution_count": 32,
   "metadata": {},
   "outputs": [],
   "source": [
    "%%bash\n",
    "diff result19.txt <(cut -f 1 ./popular-names.txt | sort | uniq -c | sort -r | cut -b 9-)"
   ]
  },
  {
   "cell_type": "code",
   "execution_count": null,
   "metadata": {},
   "outputs": [],
   "source": []
  }
 ],
 "metadata": {
  "kernelspec": {
   "display_name": "Python 3",
   "language": "python",
   "name": "python3"
  },
  "language_info": {
   "codemirror_mode": {
    "name": "ipython",
    "version": 3
   },
   "file_extension": ".py",
   "mimetype": "text/x-python",
   "name": "python",
   "nbconvert_exporter": "python",
   "pygments_lexer": "ipython3",
   "version": "3.6.9"
  }
 },
 "nbformat": 4,
 "nbformat_minor": 4
}
