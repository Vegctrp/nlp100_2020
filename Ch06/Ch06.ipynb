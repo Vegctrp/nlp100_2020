{
 "cells": [
  {
   "cell_type": "markdown",
   "metadata": {},
   "source": [
    "# 第6章: 機械学習"
   ]
  },
  {
   "cell_type": "code",
   "execution_count": 1,
   "metadata": {},
   "outputs": [
    {
     "name": "stdout",
     "output_type": "stream",
     "text": [
      "Will not apply HSTS. The HSTS database must be a regular and non-world-writable file.\n",
      "ERROR: could not open HSTS store at '/home/altair626/.wget-hsts'. HSTS will be disabled.\n",
      "--2020-05-10 12:14:28--  https://archive.ics.uci.edu/ml/machine-learning-databases/00359/NewsAggregatorDataset.zip\n",
      "Resolving archive.ics.uci.edu (archive.ics.uci.edu)... 128.195.10.252\n",
      "Connecting to archive.ics.uci.edu (archive.ics.uci.edu)|128.195.10.252|:443... connected.\n",
      "HTTP request sent, awaiting response... 200 OK\n",
      "Length: 29224203 (28M) [application/x-httpd-php]\n",
      "Saving to: ‘NewsAggregatorDataset.zip’\n",
      "\n",
      "NewsAggregatorDatas 100%[===================>]  27.87M  10.1MB/s    in 2.8s    \n",
      "\n",
      "2020-05-10 12:14:32 (10.1 MB/s) - ‘NewsAggregatorDataset.zip’ saved [29224203/29224203]\n",
      "\n"
     ]
    }
   ],
   "source": [
    "!wget https://archive.ics.uci.edu/ml/machine-learning-databases/00359/NewsAggregatorDataset.zip"
   ]
  },
  {
   "cell_type": "code",
   "execution_count": 2,
   "metadata": {},
   "outputs": [
    {
     "name": "stdout",
     "output_type": "stream",
     "text": [
      "Archive:  NewsAggregatorDataset.zip\n",
      "  inflating: 2pageSessions.csv       \n",
      "   creating: __MACOSX/\n",
      "  inflating: __MACOSX/._2pageSessions.csv  \n",
      "  inflating: newsCorpora.csv         \n",
      "  inflating: __MACOSX/._newsCorpora.csv  \n",
      "  inflating: readme.txt              \n",
      "  inflating: __MACOSX/._readme.txt   \n"
     ]
    }
   ],
   "source": [
    "!unzip NewsAggregatorDataset.zip"
   ]
  },
  {
   "cell_type": "code",
   "execution_count": 3,
   "metadata": {},
   "outputs": [],
   "source": [
    "from stemming.porter2 import stem\n",
    "import spacy\n",
    "import re\n",
    "from collections import Counter\n",
    "from sklearn.linear_model import LogisticRegression\n",
    "import pickle\n",
    "import random\n",
    "import numpy as np\n",
    "import statistics\n",
    "import matplotlib.pyplot as plt"
   ]
  },
  {
   "cell_type": "markdown",
   "metadata": {},
   "source": [
    "## 50. データの入手・整形\n",
    "News Aggregator Data Setをダウンロードし、以下の要領で学習データ（train.txt），検証データ（valid.txt），評価データ（test.txt）を作成せよ．\n",
    "\n",
    "1. ダウンロードしたzipファイルを解凍し，readme.txtの説明を読む．\n",
    "2. 情報源（publisher）が”Reuters”, “Huffington Post”, “Businessweek”, “Contactmusic.com”, “Daily Mail”の事例（記事）のみを抽出する．\n",
    "3. 抽出された事例をランダムに並び替える．\n",
    "4. 抽出された事例の80%を学習データ，残りの10%ずつを検証データと評価データに分割し，それぞれtrain.txt，valid.txt，test.txtというファイル名で保存する．ファイルには，１行に１事例を書き出すこととし，カテゴリ名と記事見出しのタブ区切り形式とせよ（このファイルは後に問題70で再利用する）．\n",
    "\n",
    "学習データと評価データを作成したら，各カテゴリの事例数を確認せよ．\n",
    "\n"
   ]
  },
  {
   "cell_type": "code",
   "execution_count": 4,
   "metadata": {},
   "outputs": [],
   "source": [
    "with open(\"./newsCorpora.csv\", \"r\") as intxt:\n",
    "    inline = intxt.readlines()\n",
    "    \n",
    "select_publisher = [\"Reuters\", \"Huffington Post\", \"Businessweek\", \"Contactmusic.com\", \"Daily Mail\"]\n",
    "datas = []\n",
    "\n",
    "for line in inline:\n",
    "    if line != \"\":\n",
    "        ll = line.split(\"\\t\")\n",
    "        if ll[3] in select_publisher:\n",
    "            datas.append((ll[4],ll[1]))\n",
    "\n",
    "random.shuffle(datas)"
   ]
  },
  {
   "cell_type": "code",
   "execution_count": 5,
   "metadata": {},
   "outputs": [
    {
     "name": "stdout",
     "output_type": "stream",
     "text": [
      "all data : 13356\n",
      "train data : 10684\n",
      "valid data : 1336\n",
      "test data : 1336\n"
     ]
    }
   ],
   "source": [
    "print(\"all data :\",len(datas))\n",
    "\n",
    "with open(\"train.txt\", \"w\") as out:\n",
    "    for i in datas[:len(datas)*4//5]:\n",
    "        print(i[0]+\"\\t\"+i[1], file=out)\n",
    "print(\"train data :\",len(datas[:len(datas)*4//5]))\n",
    "\n",
    "with open(\"valid.txt\", \"w\") as out:\n",
    "    for i in datas[len(datas)*8//10:len(datas)*9//10]:\n",
    "        print(i[0]+\"\\t\"+i[1], file=out)\n",
    "print(\"valid data :\",len(datas[len(datas)*8//10:len(datas)*9//10]))\n",
    "\n",
    "with open(\"test.txt\", \"w\") as out:\n",
    "    for i in datas[len(datas)*9//10:]:\n",
    "        print(i[0]+\"\\t\"+i[1], file=out)\n",
    "print(\"test data :\",len(datas[len(datas)*9//10:]))"
   ]
  },
  {
   "cell_type": "code",
   "execution_count": 6,
   "metadata": {},
   "outputs": [
    {
     "name": "stdout",
     "output_type": "stream",
     "text": [
      "b\tUPDATE 2-China June consumer inflation cools, more stimulus expected\r\n",
      "e\tWho Knew Sansa Stark Sophie Turner Could Sing?\r\n",
      "e\tRevealed: Shia LaBeouf 'was banned from L.A. restaurant for urinating on a wall  ...\r\n",
      "b\tHong Kong Accountants Say Protests May Spur Exodus of Companies\r\n",
      "b\tEurostar Passengers Face Delays After Power Supply Disruption\r\n",
      "t\tDrones, cyborgs and genetically altered babies: The potential future  ...\r\n",
      "b\tFormer SAC, Och-Ziff Manager Said to Consider Own Hedge Fund (1)\r\n",
      "b\tTarget 'respectfully' asks customers not to bring firearms to its stores after being  ...\r\n",
      "b\tUBS says books 254 million euros against second quarter to settle one German  ...\r\n",
      "e\tFormer WWE Diva Stacy Keibler Marries In Secret Ceremony To Jared Pobre\r\n"
     ]
    }
   ],
   "source": [
    "!head train.txt"
   ]
  },
  {
   "cell_type": "markdown",
   "metadata": {},
   "source": [
    "## 51. 特徴量抽出\n",
    "学習データ，検証データ，評価データから特徴量を抽出し，それぞれtrain.feature.txt，valid.feature.txt，test.feature.txtというファイル名で保存せよ． なお，カテゴリ分類に有用そうな特徴量は各自で自由に設計せよ．記事の見出しを単語列に変換したものが最低限のベースラインとなるであろう．"
   ]
  },
  {
   "cell_type": "code",
   "execution_count": 7,
   "metadata": {},
   "outputs": [],
   "source": [
    "nlp = spacy.load(\"en\")"
   ]
  },
  {
   "cell_type": "code",
   "execution_count": 8,
   "metadata": {},
   "outputs": [],
   "source": [
    "def get_data():\n",
    "    test = []\n",
    "    train = []\n",
    "    valid = []\n",
    "    with open(\"./test.txt\") as intxt:\n",
    "        line = intxt.readline()\n",
    "        while line:\n",
    "            test.append(tuple(line.strip(\"\\n\").split(\"\\t\")))\n",
    "            line = intxt.readline()\n",
    "    with open(\"./train.txt\") as intxt:\n",
    "        line = intxt.readline()\n",
    "        while line:\n",
    "            train.append(tuple(line.strip(\"\\n\").split(\"\\t\")))\n",
    "            line = intxt.readline()\n",
    "    with open(\"./valid.txt\") as intxt:\n",
    "        line = intxt.readline()\n",
    "        while line:\n",
    "            valid.append(tuple(line.strip(\"\\n\").split(\"\\t\")))\n",
    "            line = intxt.readline()\n",
    "    return train, test, valid\n",
    "\n",
    "def get_feat_from_sentence(string):\n",
    "    sl = nlp.make_doc(string)\n",
    "    string = [stem(i.lemma_.lower()) for i in sl]\n",
    "    return string\n",
    "\n",
    "def data2stemmed(data):\n",
    "    return [(label, get_feat_from_sentence(string)) for label,string in data]\n",
    "\n",
    "def get_feature_stems(stemmed):\n",
    "    counter = Counter([tok for _,toks in stemmed for tok in toks])\n",
    "    #for i in counter.most_common():\n",
    "    #    print(i)\n",
    "    return [stem for stem,num in counter.most_common() if 2<num<1000]\n",
    "\n",
    "def make_count_mat(stemmed, feature):\n",
    "    tl = [label for label,_ in stemmed]\n",
    "    xl = [make_count_vec(steml, feature) for _,steml in stemmed]\n",
    "    return tl, xl\n",
    "\n",
    "def make_count_vec(steml, feature):\n",
    "    cd = Counter(steml)\n",
    "    return [cd[stem] if stem in cd else 0 for stem in feature]\n",
    "\n",
    "def write_features(filename, tl, xl, feature):\n",
    "    assert len(tl)==len(xl)\n",
    "    with open(filename, \"w\") as out:\n",
    "        print(\",\".join(feature), file=out)\n",
    "        for t,x in zip(tl,xl):\n",
    "            print(t+\",\"+\",\".join([str(int(i)) for i in x]), file=out)"
   ]
  },
  {
   "cell_type": "code",
   "execution_count": 9,
   "metadata": {},
   "outputs": [],
   "source": [
    "train, test, valid = get_data()\n",
    "train_stemmed = data2stemmed(train)\n",
    "test_stemmed = data2stemmed(test)\n",
    "valid_stemmed = data2stemmed(valid)\n",
    "\n",
    "feature = get_feature_stems(train_stemmed)\n",
    "train_t, train_x = make_count_mat(train_stemmed, feature)\n",
    "test_t, test_x = make_count_mat(test_stemmed, feature)\n",
    "valid_t, valid_x = make_count_mat(valid_stemmed, feature)\n",
    "\n",
    "write_features(\"./train.feature.txt\", train_t, train_x, feature)\n",
    "write_features(\"./test.feature.txt\", test_t, test_x, feature)\n",
    "write_features(\"./valid.feature.txt\", valid_t, valid_x, feature)"
   ]
  },
  {
   "cell_type": "code",
   "execution_count": 10,
   "metadata": {},
   "outputs": [
    {
     "name": "stdout",
     "output_type": "stream",
     "text": [
      "and,us,be,with,at,after,new,\",$,say,stock,(,),up,from,not,is,by,?,kardashian,rise,it,;,over,china,will,share,her,euro,high,1,kim,fall,low,rate,-pron-,show,bank,star,deal,fed,may,!,about,year,2,day,market,dollar,out,sale,ecb,that,can,get,drop,see,buy,report,time,profit,billion,make,global,take,forex,gain,wall,off,you,near,miley,cyrus,but,datum,she,bond,cut,west,first,ceo,his,hit,reveal,do,record,set,plan,growth,week,top,much,price,bln,ukrain,video,open,st,kany,talk,as,pay,down,wed,month,end,game,more,million,no,chris,befor,justin,than,home,googl,this,film,he,bieber,one,gold,two,into,oil,inflat,3,2014,are,big,.,chang,how,go,job,your,back,all,appl,futur,car,american,who,call,man,movi,want,rais,die,ahead,outlook,face,against,what,tv,economi,york,case,world,just,correct,bid,war,fan,uk,look,&,court,drug,recal,rpt,trade,love,find,estim,offer,risk,loss,twitter,death,sinc,yellen,pct,﻿1,sell,ipo,forecast,expect,hold,america,beat,facebook,award,>,post,win,gm,help,quarter,studi,still,busi,claim,amid,most,lohan,dead,beyonc,jay,4,lindsay,leav,live,give,music,fitch,peopl,whi,miss,s&p,like,jump,meet,firm,throne,michael,seek,draghi,i,has,close,selena,polici,photo,ralli,hous,yield,gomez,wrapup,mother,step,join,test,yen,warn,three,final,georg,lead,paul,fight,boost,z,rule,babi,work,season,littl,use,probe,bet,offic,european,revenu,gas,fund,debt,demand,review,box,%,health,dress,watch,climat,charg,men,cost,cancer,june,said,releas,now,amazon,investor,iraq,mobil,compani,russia,ebola,percent,earn,jame,fire,good,parti,play,stone,return,was,precious,girl,again,name,harri,white,news,arrest,edg,push,age,maker,strong,life,break,tour,europ,approv,increas,sign,famili,sex,jennif,they,robert,affirm,could,target,some,eye,bnp,comment,their,500,mln,offici,confirm,scott,head,martin,5,credit,we,10,view,so,dure,keep,treasuri,japan,zone,declin,data,should,william,street,air,kong,german,move,six,slip,jackson,way,my,pfizer,late,need,date,obama,celebr,merger,samsung,role,ex,robin,internet,second,steadi,hong,marri,flat,red,launch,concern,lawsuit,order,north,ford,joli,met,trailer,heart,critic,alibaba,episod,debut,well,cast,consum,know,cancel,boe,tax,five,weak,list,next,brown,product,pregnant,anoth,roll,refil,angelina,suppli,or,jessica,netflix,l'wren,gwyneth,festiv,young,servic,come,eas,too,half,action,crash,dip,david,announc,would,pictur,thing,lose,if,/,food,1-us,—,child,premier,climb,cover,snapshot,fail,attack,power,start,real,tell,bad,spend,seen,perform,e,microsoft,2-us,secur,black,canada,director,virus,put,support,french,singer,long,jagger,wife,franc,thick,paltrow,emma,ban,book,settl,un,propos,space,april,best,state,jenner,capit,spread,astrazeneca,advanc,johnni,7,free,comcast,plane,challeng,under,mick,file,old,stay,kid,drive,india,boj,surg,hospit,ryan,invest,turn,asia,investig,host,add,here,zac,efron,when,bring,bill,judg,reach,obamacar,warner,album,weigh,slow,spider,mortgag,sourc,econom,friend,citi,fear,pound,march,own,argentina,last,fox,phone,unit,despit,focus,jet,user,emerg,author,stop,clooney,daughter,while,son,loan,stake,short,app,kill,john,kate,earli,forc,6,walker,even,run,stimulus,other,cigarett,ap,birthday,tech,right,danc,think,worker,cann,remain,direct,khloe,energi,hope,brad,realli,kati,alstom,simpson,2015,u.s.,eu,four,issu,night,chief,land,depp,crude,split,boy,pitt,key,bell,suit,sanction,ignit,fix,100,save,fine,tesla,begin,search,hike,tri,agre,50,light,unveil,battl,follow,morgan,™,manufactur,grow,voic,stabl,ever,slide,secret,taylor,behind,quit,away,airlin,tribut,la,export,slump,wear,trial,scientist,lift,asian,retail,--,pharrel,happi,hollywood,shia,labeouf,former,ask,model,result,michel,pull,act,regul,apparel,possibl,tension,money,actor,crisi,link,full,doubl,woman,delay,due,mila,kuni,lea,walk,water,fda,plant,mcdonald,juli,sister,allergan,net,auto,guilti,stream,barclay,general,harrison,ad,australia,urg,index,manag,develop,ladi,replac,currenc,9,sue,t,continu,law,press,gay,oscar,industri,defend,below,did,flight,shoot,an,andrew,20,extend,public,*,controversi,[,problem,swift,reason,8,teen,stori,treatment,tumbl,presid,settlement,ice,alleg,insid,seth,valeant,mtv,takeov,king,broadway,veri,strike,-sourc,at&t,tweet,prepar,blood,noah,fast,mad,amaz,disney,our,build,financi,govern,protect,father,selfi,mean,neil,disput,patent,accus,garfield,corn,earth,board,crush,mar,fuel,],struggl,anti,nasdaq,sequel,reject,christina,recoveri,factori,creat,abus,fcc,south,mom,deni,yet,nick,worri,rolf,hunt,mer,vii,track,stage,lana,rihanna,stanley,franco,gala,produc,minut,captain,johnson,marriag,cabl,dark,instagram,steal,outbreak,rival,interest,far,bachelorett,miranda,seri,becom,winter,negat,ring,nasa,blast,cash,del,rey,safeti,slam,reduc,signal,transform,engag,london,yahoo,design,part,soon,california,british,imf,biggest,almost,richard,mccarthi,smartphon,becaus,mark,speed,legal,moment,women,network,execut,assault,pariba,custom,store,await,abov,point,level,ny,higher,spot,chines,brent,polic,song,pressur,demi,lovato,disappoint,arriv,check,allow,onli,neutral,sick,group,travel,improv,grain,doctor,apolog,pari,asset,planet,valu,onc,let,aid,him,team,recap,iphon,term,card,vs,rob,hbo,research,made,hear,gdp,effect,bachelor,rogen,bryan,hill,chrysler,birth,soar,sea,adam,surpris,line,vehicl,husband,concert,breach,directv,control,area,weight,send,happen,optim,shock,contract,cool,protest,trader,rock,switch,better,factor,lewi,panel,hall,pregnanc,toyota,de,biopic,messag,learn,morn,spark,brain,rumour,fli,patient,peach,hour,safe,through,electr,£,wrong,confid,member,ge,thank,princ,gaga,fx,school,los,angel,threat,revis,posit,yuan,senat,sector,shire,drag,hint,warm,summer,libya,carpet,speak,glass,funer,camera,blue,gown,admit,major,limit,experi,jenni,doe,drink,pick,prompt,1/2,ipad,nyong'o,small,tie,readi,plead,labor,huge,galaxi,ben,crimin,central,never,sterl,washington,scene,solang,weekend,drone,outsid,flash,stress,minist,russian,cap,great,reunit,river,gosl,sexi,montana,goe,vietnam,girlfriend,dow,bankruptci,geldof,idol,co,14,between,detroit,parent,carney,block,hand,africa,brand,jon,welcom,lupita,text,kristen,web,anim,hurt,must,question,snap,there,12,retir,includ,hack,prove,human,row,sharehold,infect,prevent,goldman,beauti,bear,wild,smith,consid,citigroup,bofa,threaten,sexual,deutsch,inspir,caus,michell,expand,russel,siemen,suiss,fiat,acquir,chain,fee,got,easter,s,jr.,daniel,chairman,andi,spell,hard,shailen,woodley,lambert,boss,screen,pmi,giant,payment,origin,discov,true,lena,dunham,frozen,sir,versus,technolog,lopez,system,actress,m&a,train,kourtney,joe,rapper,leak,equiti,deadlin,suspend,marvel,gap,nation,without,curb,magic,aereo,project,drew,hemsworth,hepat,mix,hair,freddi,jimmi,room,kiss,plung,place,remov,same,scandal,olivia,past,coachella,refus,chelsea,boyfriend,rare,kick,appear,fashion,satellit,unemploy,rooney,partner,union,brother,aussi,activist,specul,actual,batman,corpor,privat,jason,word,allen,appeal,perfect,cloud,everyth,style,spanish,read,25,avoid,fargo,eight,bikini,bodi,station,blow,malaysia,where,alcohol,ibm,exit,retreat,gun,fraud,children,rico,24,damag,victim,catch,tori,wheat,oprah,swiss,pattinson,winner,singl,togeth,worth,x,13,loom,acceler,england,blame,aim,seven,jpmorgan,separ,mani,pose,grand,had,don,cent,tonight,11,friday,visit,figur,smart,perri,q2,histori,jack,divorc,me,downey,mysteri,#,clear,suicid,agenc,18,wage,competit,qe,abbvi,neighbor,believ,these,spear,winslet,comedi,around,rebound,kris,carey,restaur,hedg,carbon,marijuana,accord,renew,wsj,mccartney,lost,devic,herself,barrymor,uber,green,creator,canadian,reunion,loui,keith,been,total,predict,speech,diverg,medium,latest,malaysian,megan,ebay,cameron,alzheim,size,cell,moon,lower,worst,kendal,guardian,measur,spill,social,vow,affleck,slight,stephen,promis,recov,dream,attempt,fame,2013,tight,patrick,rumor,nyc,suprem,congress,carri,bag,toni,peter,stand,stun,mariah,cannon,account,port,joke,daili,hacker,bitcoin,featur,event,healthi,smoke,q1,highlight,nikkei,diseas,hotel,which,subdu,among,burger,medic,african,lawmak,dean,vogu,auction,privaci,complet,cite,note,1-china,diabet,candi,porn,third,scarlett,strip,putin,sprint,jail,suffer,output,hilari,steve,defect,suggest,khloé,heartble,valuat,lawrenc,c,highest,band,spin,urban,dog,fresh,hate,wait,decis,shift,transcend,massiv,straight,britney,indian,malefic,were,22,ellen,weather,ann,sing,potenti,rehab,trap,upbeat,arquett,fit,levin,defens,imag,charney,copyright,attend,hire,toward,billboard,found,dad,bite,onlin,class,gazprom,dee,potter,halt,musk,puerto,longer,eat,middleton,trigger,soldier,reaction,germani,lili,respons,digit,comeback,chase,tear,cdc,johansson,britain,magazin,troubl,ride,joan,led,feder,emmi,per,main,lag,jobless,27,colbert,option,receiv,christian,polit,thursday,japanes,insur,explain,revers,coldplay,obes,tanker,duke,relat,mickey,realiti,nomin,less,17,broad,sink,shut,condit,number,ship,solar,piketti,avicii,orbit,financ,care,commod,batteri,larg,inch,shine,tom,side,decad,spur,passeng,bright,italian,whole,monster,rebel,ashton,pilot,python,rememb,breast,rowl,sun,import,pace,until,niro,tribeca,blackberri,mh370,rick,chart,coach,republican,fat,toll,kyli,wireless,radcliff,fair,3-us,websit,paula,ftc,draw,rape,icon,guidanc,trim,plus,extinct,nicki,minaj,re,gari,driver,diaz,survey,30,east,teenag,honour,aguilera,florida,cfo,beyoncé,tattoo,tobacco,crop,shot,equal,pal,everi,engin,texa,intern,skin,evan,crow,employe,access,door,lot,pretti,promot,tablet,student,nfl,murder,platinum,cobain,jone,superman,ell,motor,museum,super,fill,nude,today,reviv,vote,default,drama,debat,relationship,2-china,miner,everyon,lunch,deflat,itali,bar,eric,kutcher,mail,properti,orlando,bloom,nine,justic,bucket,wake,dawn,scrutini,digest,sorri,impact,storm,orang,treat,campaign,liam,handler,eva,ultra,android,flaw,kiefer,sutherland,write,josh,blog,consol,medtron,governor,ackman,owner,columbus,special,ticket,lowest,matthew,sunday,ill,explor,chariti,expans,shrink,hamm,streak,economist,natur,soybean,jami,studio,queen,stewart,cheat,unexpect,attorney,match,elsa,anna,cup,gig,detect,weaken,testimoni,wti,nbc,twin,16,2nd,15,aronofski,rose,tape,haven,cooper,ftse,contest,abc,mexico,healthcar,godzilla,comput,bug,bob,comic,dinosaur,alert,tammi,column,yr,rosi,sentiment,feel,round,enter,prime,snapchat,garth,watson,rich,monteith,disrupt,sac,incred,island,sofia,organ,strengthen,dovish,spain,philip,monti,dian,recent,via,pharma,danger,trip,feud,sec,pool,pipelin,pledg,dividend,murdoch,guinea,monday,buffett,gilead,dorfman,lifetim,detail,analyst,advis,swap,ifo,mayor,thoma,discuss,rocket,charli,ac,trail,enjoy,success,surfac,purchas,letter,interview,rebind,wish,expos,topless,ariana,enough,bullard,joint,shop,introduc,bp,gwen,julia,verizon,hugh,jackman,entir,forget,v,tsx,letterman,collaps,pablo,viewer,lend,snl,pollut,race,site,seat,bang,rubi,famous,pop,surgeri,choic,career,subscrib,accid,founder,couric,sever,colin,lee,worsen,accept,argentin,club,resum,o'donnel,object,incid,3.2,trend,jr,michigan,exist,turkey,address,lord,floyd,selloff,melissa,channel,cori,staci,beach,biotech,costum,fanni,kerri,statement,irish,fake,display,might,pink,touch,postpon,road,throw,ireland,oper,navi,foreign,pill,19,carrier,sierra,leon,acquisit,media,tyson,blond,impress,prinz,univers,stem,princess,sherri,shepherd,clean,himself,murray,conscious,zendaya,januari,revamp,advic,countri,noth,restrain,vs.,hero,2012,sean,jd.com,billionair,gibson,adult,dc,starbuck,ani,franki,person,chef,gopro,middl,ant,across,pursu,40,spike,leader,expert,knowl,heard,lip,davi,machin,favorit,shower,kimy,leonardo,dicaprio,adjust,hot,invit,45,print,exclus,lesson,thousand,bizarr,baker,session,juan,mental,evil,goal,peac,epa,twitch,saturday,ami,walter,faulti,skip,bulgaria,robot,nicol,kidman,page,buoy,mine,playstat,pippa,violenc,grey,1-ecb,finish,upcom,deliv,pitch,leg,taco,plea,differ,restructur,nake,seiz,dragon,katherin,region,upgrad,storag,benefit,tim,bull,spring,stanc,sarah,appoint,medicar,mac,intel,mansion,softwar,cube,woodi,bradi,cold,memori,matt,femal,1300,honduran,overhaul,stall,opportun,ab,scienc,blockbust,delet,apologis,daddi,midnight,trace,oust,oh,tatum,knock,paparazzi,dna,sxsw,progress,exposur,tool,spoiler,hiv,billi,traci,lagard,emot,dov,era,cheap,90,premium,uncoupl,patton,strategi,su,herbalif,devast,1.3,widen,pack,sleep,palermo,probabl,avril,lavign,stick,turnaround,timelin,australian,casey,kasem,metal,soft,veronica,fiancé,tone,-wsj,makeup,failur,mend,tran,pain,tap,twice,anniversari,steel,convict,non,theft,self,kuroda,libyan,korea,upon,telecom,exchang,bride,dismiss,momentum,contain,guid,prais,warrant,buyer,chanc,monetari,pre,common,xbox,injuri,darren,childhood,crown,email,lion,chicago,heaven,romanc,pin,draper,rest,ditch,payrol,stefani,resign,jace,terribl,advertis,flow,confer,3-week,forward,fals,resolv,craig,jean,juri,kerr,raci,solid,barra,bunch,degener,reform,teaser,respond,oecd,miami,bossi,mart,madonna,front,heigl,warrior,ukrainian,pois,art,cloth,sawyer,solv,deposit,adopt,chip,hampton,nymex,marc,hayden,teva,soni,brook,eminem,player,racist,saturn,mission,swing,sport,hundr,schwarzenegg,airport,zeppelin,few,employ,abramson,volatil,alter,keibler,grant,©,alli,vergara,chipotl,virgin,merril,morri,foot,hp,amanda,quentin,lloyd,10-year,usa,fish,jumpsuit,arm,litig,silenc,jonah,ross,activ,bever,guest,mount,gox,ohio,terri,cultur,process,aaliyah,fun,deputi,bangerz,compar,offset,overdos,winfrey,fiance,bigger,serious,b,spacex,lover,icahn,oldman,malcolm,vaccin,reopen,glee,deliveri,seal,alien,shake,outrag,field,dimon,adapt,flame,christin,allergi,pet,karruech,hide,airway,amber,holiday,acm,wintour,scientif,scare,count,chic,kind,grab,lamar,gear,bird,fourth,addict,whale,morrissey,hug,|,beard,prize,dancer,dave,fault,clip,heat,locat,1st,4-us,insist,pan,holi,anita,annual,cruis,abort,3-month,provid,favreau,involv,fallon,candid,faster,smash,youtub,dj,lender,flag,woe,cours,anderson,independ,walmart,traffic,mice,lafarg,jeopardi,lung,iggi,azalea,aniston,nuclear,church,brief,tina,fey,pass,kiwi,publish,htc,depart,bust,lawyer,tick,uninsur,falter,tarantino,macklemor,bni,frack,mock,ultim,homeless,heavi,geopolit,bomb,dui,sound,kevin,paper,copper,dare,pizza,fade,1-month,wind,februari,wayn,dalla,cross,bbb-,generat,hip,cbs,elizabeth,shade,novarti,painkil,erst,lyric,snub,nissan,vega,banker,restor,bean,normal,soprano,motorola,outflow,gene,program,sold,arnold,robberi,rig,violat,easi,ed,rescu,elect,peak,2009,furious,sandra,injur,margin,edward,ceremoni,firth,yellow,4-month,wto,segel,stabil,request,anxieti,someth,diet,3-gm,cautious,poster,bbc,modest,ok,jupit,wash,vmas,tree,riot,m,budget,30-year,idina,menzel,factbox,illeg,elon,electron,vulner,exec,beyond,choos,anyth,courtney,hologram,ago,foster,duti,op,narrow,gasolin,osborn,boston,van,fate,rachel,park,stunt,cyber,1-gm,downgrad,pension,explos,dramat,remark,drake,amal,alamuddin,elec,blake,hsbc,sad,excit,grace,dot,coupl,septemb,numb,glori,holland,hillshir,coal,killer,ocean,trust,veteran,radio,vw,rubl,longest,quiet,hawk,bros.,wright,bus,okcupid,them,soda,weird,dump,react,restrict,outfit,refineri,newli,prosecutor,bloomberg,audienc,300,prison,master,donat,awesom,confront,modern,pot,legendari,poll,topix,nashvill,mrs,incom,korean,proceed,monitor,bare,pleas,flood,doubt,angri,royal,cure,broken,mara,truck,quick,extra,fianc,em,vma,brazil,collect,maintain,jersey,skirt,legaci,version,proud,sentenc,colleg,polio,pamela,allerg,lack,escap,leather,fisher,farewel,charact,belov,kelli,2011,dash,cargo,gq,craft,luca,nephew,debri,sheen,chemic,reboot,draft,octob,dealer,al,lab,5-us,depress,mull,aa,explod,alba,analysi,earthquak,dazzl,ramp,slack,therapi,marquez,nadella,artist,250,televis,taxi,holcim,zealand,grind,2-gm,4th,advantag,reserv,soy,mile,theori,wal,wealth,deep,partnership,transit,phil,knight,panettier,rant,stronger,compens,affect,effort,copaxon,saudi,arabia,bradley,hop,broke,express,boo,heartbreak,mega,jada,pinkett,buyback,holder,ape,multi,greec,lie,franci,caught,26,simon,cbo,abram,hank,kurt,crime,bow,whether,decid,illinoi,sag,embarrass,cri,35,san,racism,ingredi,communiti,rr,declar,1000,approach,ivi,2000,commit,pratt,score,mockingjay,bullock,benzino,form,exodus,genet,ub,wwe,holm,frequenc,oz,dioxid,warren,evid,alreadi,backlash,map,complianc,tackl,surround,lay,tender,stroke,ir,zero,asid,legend,byne,rider,extrem,5.7,cat,activis,chan,bind,spi,lng,botox,translat,averag,hewitt,iliad,democrat,within,greek,rupert,squeez,construct,caterpillar,richardson,label,clarifi,cinco,stockpil,largest,broadcast,academi,hover,usda,empir,inform,comb,puff,domin,august,horribl,scheme,emiss,licens,bounc,window,jane,fonda,core,heroin,gym,confus,wave,hammer,moral,divid,gift,nanci,edgar,burst,rip,neighbour,5000,tough,insight,watchdog,clair,tini,present,theme,exact,faa,kitti,dynasti,collin,wig,slash,liberia,muppet,yum,schumach,uphold,tout,plot,cryptic,2-bank,jesus,gross,repair,tragic,fever,duff,client,doubtfir,reuter,mari,rita,ora,everywher,qtr,balanc,sneak,guy,venic,armi,taper,overheat,argument,shortag,citizen,corey,held,rough,28,1-googl,mous,subscript,creditor,j,senior,snow,1-bank,rep,91,photograph,chocol,janet,center,cleavag,kickstart,alongsid,poison,negoti,j&j,pandora,93,alexand,pare,unrest,nirvana,dre,lake,ferguson,excess,christi,done,divers,scrap,nyt,takeda,israel,disord,wonder,dive,shakira,tupac,constancio,bed,oversea,coca,cola,current,sky,sight,estat,cruze,paint,adrienn,bailon,tabl,evacu,eli,lilli,hachett,culkin,1.2,mellon,anger,cranston,geithner,peer,fbi,decreas,pc,error,degrass,male,crimea,minimum,longtim,ray,joel,200,ginnif,goodwin,reynold,mum,obsess,bulgarian,fedex,debbi,startup,shell,3d,seacrest,chat,vindic,arizona,benchmark,charliz,theron,subsidi,funni,23,kit,pope,tomlinson,opera,horton,rap,counter,custodi,rail,las,digest-,lash,dinner,2.5,collid,asteroid,lgbt,aaa,elev,pen,ft,day-,serv,intensifi,initi,randal,shirt,given,allur,idea,agreement,katt,luxuri,sit,sedan,ground,allianc,payout,cfda,temper,gisel,persh,jk,password,palm,sweet,tighten,pistorius,telescop,fifti,victori,apart,covidien,ancier,hunger,least,rush,ruffalo,larri,pride,suspect,oti,adkin,carolina,iranian,stark,jare,histor,mae,smile,thought,enrol,berri,soul,surviv,unlik,1-russia,gotham,rainbow,mate,worldwid,4.2,nobodi,ascend,shi,bondhold,gorgeous,sheer,disgust,els,buzz,tyler,southeast,both,brunei,lax,snake,clash,tobi,kebbel,driverless,bolster,accident,intim,longoria,troop,withdraw,border,oppos,aig,78,curv,ouster,laugh,hospitalis,mayb,matter,appar,jodi,chemistri,gush,gloom,mcdermott,affair,ii,mayo,dirti,termin,110,discoveri,crew,estrang,palladium,honor,tea,knot,dedic,tomlin,sitcom,massachusett,shadow,1-uk,chad,asiana,status,wearhous,jos,a.,observ,gere,odd,1.8,throat,valley,mozilla,flu,dr.,attract,mike,wast,daniell,saw,harm,cheerlead,artwork,embrac,oracl,64,diner,gupta,meteor,thrill,naomi,mazurski,io,ignor,southwest,nobl,787,astronaut,bat,pooch,odom,georgina,haig,novemb,unfollow,comedian,flip,cement,honda,eagl,footag,outdoor,cara,rodriguez,xscape,egypt,pollen,alon,mastectomi,roseland,ransom,5-month,51,-studi,mexican,q&a,parad,jude,honorari,midstream,sfr,bouygu,mosquito,thin,ventur,qatar,coast,swedish,sharpli,barbara,methan,stairway,god,sting,falcon,poor,left,condens,frontman,knox,knuckl,tale,salmonella,banana,bisexu,muni,mayer,kurdish,broker,bike,spotifi,popular,nomine,wide,c.bank,chicken,gaug,bubbl,slim,beef,shame,bullish,rebhorn,hors,dr,17000,dakota,breakthrough,osbourn,manipul,wow,fatal,elton,adp,jeep,chair,coffe,brittani,bridg,shakur,calm,kocherlakota,peek,metro,stumbl,lane,hendrick,greas,danni,won,bra,dye,button,joss,whedon,softbank,aol,turmoil,cop,fischer,vice,31,widow,twist,dose,town,cnn,attent,macaulay,subpoena,scari,adel,1/2-year,epidem,87,smoker,rupe,pine,prom,susan,aka,spacecraft,underground,anchor,solut,2.3,jewish,markit,summon,tune,weibo,cannabi,connect,mh17,9/11,conduct,strateg,molner,hostil,wipe,listen,dodg,2.4,portug,saft,crystal,meg,eurovis,anglo,duck,280,aquaman,relax,iwatch,f,mood,memor,nike,clinton,bump,manganiello,indiana,hat,2-amazon,1-appl,prospect,romant,beer,uptick,peni,fleetwood,mcvie,told,a+,hello,harington,dish,base,72,autism,dylan,nikki,willow,craze,56,oculus,2008,tank,indict,wu,tang,clan,cyclic,meat,anthrax,gowex,riski,journal,durabl,t.,kaley,cuoco,inequ,nighter,-report,3000,cliff,jj,compet,slap,toy,then,brave,committe,duchess,cambridg,suntrust,jewelri,testifi,emir,hawkish,distant,merced,inquiri,inventori,miller,diamond,vial,franchis,hedwig,rover,ranger,andr,con,60,peltz,webb,lure,awkward,cnbc,cook,f-35,crossov,alley,forgotten,antitrust,lock,3-year,lobster,2.1,freeman,contact,zebra,kitchen,strength,boycott,audit,rank,glow,seem,uncertainti,prankster,bundchen,newspap,ratio,airplan,2-uk,breakdown,attach,tuesday,commiss,1-ni,ninja,turtl,jenna,dewan,anthoni,d'or,slur,idr,7th,damp,mel,semit,infam,axe,ciara,jill,recommend,flop,primari,fifth,corp,wrap,schedul,weaker,b.,valv,honey,rba,arthur,idri,elba,later,sandberg,nervous,whilst,protein,21,dealtalk,gareth,brocki,gwar,pend,zuckerberg,respect,pobr,rhode,1.7,beyoncã,ten,mclarti,st.,cheapest,disick,hybrid,petsmart,trick,bobbi,womack,damon,parrot,mode,tokyo,multipl,conflict,1-japan,dai,ichi,trio,getti,viral,jennett,mccurdi,stg,bogus,those,monkey,octopus,bulli,defi,languag,mr.,pattern,oversight,villain,fantast,mia,2-bnp,jab,travolta,buddi,20000,quinta,crowd,guard,medicin,provis,rang,mump,junk,discount,jem,kimmel,makeov,healthier,avail,portray,gave,tequila,breakup,fell,soccer,2-brent,gender,g,truth,1-year,dior,consolid,mannkind,insulin,1-fed,simpl,2010,ampl,218000,beau,twc,thaw,pig,69,zip,glitter,minidress,partial,born,roil,along,convinc,camp,derrier,dolli,parton,pinnacl,ash,ridicul,wane,garden,enterpris,brace,1-amazon,scope,shed,fabul,rippl,silicon,`,quarantin,cavallari,creativ,holt,wheelchair,stover,s.korean,brush,gabriel,strang,flick,prostat,ken,loach,68,114,reign,no.1,colorado,structur,paedophil,akb48,zombi,pataki,cameo,surgeon,dozen,pair,beatl,sharknado,newcom,expir,zaki,campbel,centr,extort,macfarlan,3rd,bailout,glaxo,tamper,volkswagen,1.1,echo,barn,nook,dreamlin,dilemma,cycl,underwrit,isra,pat,southern,bes,buyout,delevingn,sara,gilbert,linda,tread,bottom,crumb,cheaper,privileg,toya,mya,minnesota,cabaret,myer,volum,tiger,standoff,ma,dame,galavi,paid,prank,dudley,nz,iwata,criticis,chikungunya,3-china,foxcatch,tiffani,mint,hinder,enlist,wahlberg,broadband,powder,anytim,swim,scotti,mccreeri,unicredit,creatur,salari,greenhous,steinberg,inject,nintendo,download,bunni,yuko,gate,friendship,complic,type,nurs,capitalist,allman,fewer,chapter,bloodi,writer,sanofi,also,dent,liquid,aliv,113,virtual,neeson,roch,hijack,huntsman,height,mass,loos,uniqu,turkish,disast,reset,upset,unheard,materi,473,eclips,strahan,92,nj,gigolo,confess,gather,iran,50th,-who,pm,miscarriag,gamestop,implant,talent,samuel,l.,mixtap,favor,1-britain,bodyguard,cream,midriff,sharp,mcchrystal,nsa,exploit,soil,refin,sweeney,lululemon,alarm,86,retract,47,clock,sketch,mid,raytheon,fenc,establish,mountain,pilling,mta,amaya,pokerstar,alabama,abercrombi,guillon,shield,duan,smartwatch,dem,wari,cheer,eras,paddington,tepid,garcia,nobel,sort,permit,rewrit,flavor,laser,basket,2016,erykah,badu,describ,secretari,refund,8.8,safran,someon,evolut,nose,prematur,peripheri,mayhew,cosmet,overcom,buri,expens,stroll,iceland,smaller,dupont,divestitur,addit,taken,transfer,transport,guarante,iss,2007,o'neil,happili,1-american,fare,cervic,lorillard,mess,scout,robertson,unleash,airbus,aviat,distanc,regret,mind,molest,momoa,lone,ton,tankan,hillari,1-fda,remak,idl,mcconaughey,toss,orlean,carter,5th,bionic,36,sach,bore,dublin,copi,bb+,lynn,persist,finalis,abandon,redskin,lineup,qualiti,4.5,builder,annoy,commerc,downtown,gone,passov,plug,fossil,glimps,lew,deserv,dementia,immedi,o'dowd,sparkl,altern,30th,2-appl,verdict,requir,sustain,tip,delta,gallon,k,mediat,destroy,volcano,chao,editor,hobbit,undervalu,ethan,bash,tesco,assist,religi,articl,complaint,clone,entertain,promo,wing,publici,easyjet,smallpox,miser,birdman,slowdown,hungari,certain,83,pro,handl,impli,adventur,egg,each,bergdahl,88,swipe,underwear,inflow,patch,mayweath,vix,pic,groceri,crack,kirsti,amidst,slave,domest,daimler,seafood,path,ear,signific,chest,violent,stripe,chees,hyundai,bmw,resist,royc,adida,mini,dove,leftov,headlight,'s,spotlight,ms,astronom,pier,string,holdout,stalker,spokesman,document,wick,bruis,deficit,sugar,thriller,ministri,70,alex,trebek,jacket,surf,revolut,intens,recess,leno,imposs,wilson,practic,sperm,rethink,whatsapp,6-month,cinema,captur,unitedhealth,lauer,snoop,eventu,drunken,rout,dock,murphi,biblic,staff,drill,taiwan,2006,interrupt,devot,taxpay,landmark,danica,ranbaxi,7.4,previous,mourn,hook,goddard,outfitt,brawl,communic,angus,bbb,merg,housekeep,lucki,sudeiki,weed,penalti,bruce,collis,versac,suppos,mrs.,punch,punish,lavrov,inspect,mth,60000,gop,cargil,horizon,bennett,barack,h,covet,telefonica,shane,knew,l.a.,urin,diva,keen,gustin,portugues,tweetdeck,maureen,dowd,packag,function,yes,thor,klan,pour,16000,penelop,catastroph,1-toyota,competitor,notic,foundat,28th,von,diplomat,unintend,ebb,diari,clue,barrel,congression,movement,ping,j.k.,casual,destini,sam,keri,whitney,houston,mirror,eia,shale,apach,chevron,artifici,coppola,mermaid,pono,flashback,semi,jibe,fin,mastermind,peabodi,integri,4/20,celgen,psoriat,arthriti,jerri,fiancã,alway,quest,lobbi,ryanair,vardalo,pacemak,faux,pas,cute,brooklyn,sultri,grint,creepi,jena,iren,lombardi,backtrack,propel,108,finalist,complain,mugshot,stir,instal,bracelet,noriega,bonus,owe,grown,grappl,moscow,y,polar,triumph,fluctuat,disclosur,paetz,b-,dine,co2,chai,jess,meester,simpli,muster,glamour,symptom,6.9,booti,profession,4.3,89,arctic,platform,shoe,predatori,squar,padma,lakshmi,eleg,feast,wyom,r&d,identifi,jungl,2-bmw,guardianship,dotcom,script,kristin,angara,coloni,wikipedia,nhtsa,frosti,lindt,serial,elig,33,intellectu,garcía,márquez,harder,infidel,undergo,liter,assess,stylish,nsfw,camel,inner,o'mara,74,shave,yawn,nightmar,savag,onscreen,stoke,speci,warhol,floppi,disk,meryl,appreci,balli,stalk,forb,bureau,pile,older,wiz,khalifa,aa+,grade,pimco,chanel,earlier,batmobil,teas,ebook,portrait,footbal,skill,capex,armstrong,ensembl,chastain,sent,dapper,profil,ancient,cupcak,1-canadian,strain,trump,noyer,ballroom,recip,proxi,wynn,rosemari,minor,bangladesh,garment,immigr,unfaz,maundi,bewar,c$,iron,repo,strict,handset,kendrick,interior,amgen,donni,determin,barbi,gunpoint,invas,depend,hess,foothold,1999,jessi,hail,olymp,brodi,cholesterol,fertil,poet,wound,yeager,dempsey,perceiv,decept,salad,peanut,commerci,monik,transpar,epic,bund,fighter,farm,nab,collabor,spare,mideast,purpos,sothebi,titan,homeland,65,1-german,welfar,picket,ball,nyse,themselv,paulson,370,7.5,rear,2018,getaway,whose,exot,anatomi,eleph,restart,7.6,clueless,stacey,fleet,bey,leagu,heartfelt,penguin,antarct,repres,trillion,matern,lunar,hole,farley,mowat,awar,30000,acto,drugmak,mute,furnish,select,fairfax,dear,1-franc,govt,movil,wheeler,familiar,astra,grill,tripl,3-at&t,2-vodafon,7.2,harvard,subway,quizno,bridesmaid,salesforc,railroad,adob,goodby,supplier,flee,laura,innov,shun,zillow,yourself,parodi,gambl,2017,surplus,hurdl,benelux,northern,elimin,desper,s5,hawaii,slowest,finger,noto,luxottica,dolc,task,scream,sheet,favourit,pulp,fiction,wilmer,valderrama,silent,mockingbird,nuditi,claus,tomorrow,evas,recogn,nightclub,2-credit,yacht,brunch,marshal,cancelcolbert,vivendi,helicopt,emili,horror,evolv,divest,1990s,bridal,immin,espirito,santo,definit,2-fed,aisl,mill,7.1,exhibit,beneath,gordim,sarandon,400,slower,insan,surrend,carmak,rage,winston,2001,hey,shanghai,isaac,bath,benzen,v.,lenovo,oklahoma,refer,hashtag,took,fiscal,1-ex,84,paraglid,censorship,1-valeant,escort,branson,roundup,4-day,tencent,nationwid,survivor,bush,golden,superbug,alexa,western,unchang,went,wors,appetit,summit,horn,patricia,signer,maya,fishnet,shrug,seventeen,80s,unknown,mustang,commemor,interact,muscl,homophob,seizur,hoax,intuit,plummet,dina,submit,shakespear,sa,harley,-cdc,sunshin,anni,sovereign,bullet,mobiley,pump,revel,bombshel,invad,groom,zach,attenborough,portion,uterin,henri,cavil,costco,brighten,2.9,champion,arcad,saga,rwe,hasselbeck,dornan,levar,burton,lockhe,jaxon,wyatt,cutler,junip,knee,absorb,charter,blind,repris,1-bnp,150,drunk,antarctica,glastonburi,trademark,genius,piec,nigeria,technic,singapor,sand,laps,brian,beij,rex,overshadow,ashley,liar,grandfath,overdraft,ram,disturb,conjoin,nia,1-twitter,theatr,meltdown,depot,server,tortur,footstep,okay,martha,dim,gallbladd,moodi,friez,joffrey,denzel,wire,flower,fincher,shape,skid,extens,usual,codi,120,tjx,2-blackberri,comfort,kendra,stoog,betray,utah,grad,rural,fantasi,induct,outing,11-month,casino,itself,ambit,briefli,steven,bum,austria,connelli,29,salomon,1.36,exxon,orphan,im,wealthi,gma,aa-,basebal,reward,1950s,weir,viacom,hgtv,urgent,seinfeld,golf,wisconsin,english,prefer,eve,50-day,offens,beasti,alamo,reap,takata,wholesal,explet,endo,blunder,2.6,bundesbank,t.i.,monopoli,bidder,2-microsoft,9.3,cosmos,cottag,harass,beg,gorman,sycamor,suv,guess,prioriti,liu,1-week,medit,exercis,9-month,gradual,sia,reservoir,thornton,kathleen,sebelius,forev,elisabeth,reckless,s.korea,bask,dutch,edgi,suck,strapless,3-day,ankl,underway,shr,valeri,harper,content,maksim,nas,1-target,101,commut,optimist,lavish,2-franc,dust,fool,argu,newest,newborn,institut,mario,+,honeymoon,mechan,doom,melt,olsen,2-yellen,atlant,2.15,youth,gov't,dab,conan,deter,prospectus,2-week,1-california,examin,moretz,dixon,anymor,mutant,tame,heighten,plosser,moonlight,gp,pipe,omnicom,dwarf,spoil,color,mask,advert,spinoff,donor,2-alibaba,dan,circus,sexism,delight,irrevers,numsa,revert,reloc,bleed,opt,43,lo,jetblu,athlet,ag,skinni,gogh,replica,trek,zara,49,sober,recreat,swear,nickelodeon,soundtrack,etihad,ted,sharia,usher,soviet,missil,singpost,moss,wit,pilgrim,1.6,vodafon,rio,joseph,2-morgan,jana,jolt,thwart,unaccept,8-month,thailand,abe,flurri,realist,mckellar,breaker,o2,lithuania,motherhood,greatest,labour,motorcycl,berkshir,bargain,millennium,sensor,u,kramer,1-putin,spirit,rental,ragu,duet,successor,credibl,msnbc,antonoff,royalti,450,cpi,emc,impos,eastern,paramount,greater,barbra,streisand,pact,ricci,remot,circl,tunnel,assign,garner,toilet,sheryl,avert,3-d,eczema,classic,programm,turbul,5c,dmv,robust,tariff,basic,melanoma,facial,centuri,repay,outlin,salut,documentari,scan,fetch,portfolio,camaro,111,local,spice,breakfast,stole,coleman,wood,1-microsoft,edit,halston,sage,unless,ici,hast,decemb,civil,scania,drought,daum,kakao,levi,escal,malfunct,flappi,deceiv,pip,clark,ivan,reitman,6-us,heather,intellig,ferrel,stabilis,airbnb,transmiss,barri,cbank,boyl,imagin,drift,shipment,kpn,coma,deepen,boot,cater,weekahead,princip,richest,lachey,lazaretto,venu,shaquill,o'neal,remedi,recoup,jan,rev\r\n",
      "b,0,0,0,0,0,0,0,0,0,0,0,0,0,0,0,0,0,0,0,0,0,0,0,0,0,0,0,0,0,0,0,0,0,0,0,0,0,0,0,0,0,0,0,0,0,0,0,0,0,0,0,0,0,0,0,0,0,0,0,0,0,0,0,0,0,0,0,0,0,0,0,0,0,0,0,0,0,0,0,0,0,0,0,0,0,0,0,0,0,0,0,1,0,0,0,0,0,0,0,0,0,0,0,0,0,0,0,0,0,0,0,0,0,0,0,0,0,0,0,0,0,0,0,0,0,1,0,0,0,0,0,0,0,0,0,0,0,0,0,0,0,0,0,0,0,0,0,0,0,0,0,0,0,0,0,0,0,0,0,0,0,0,0,0,0,0,0,0,0,0,0,0,0,0,0,0,0,0,0,0,0,0,0,0,0,0,0,1,0,0,0,0,0,0,0,0,0,0,0,0,0,0,0,0,0,0,0,0,0,0,0,0,0,0,0,0,0,0,0,0,0,0,0,0,0,0,0,0,0,0,0,0,0,0,0,0,0,0,0,0,0,0,0,0,0,0,0,0,0,0,0,0,0,0,0,0,0,0,0,0,0,0,0,0,0,0,0,0,0,0,0,0,0,0,0,0,0,0,0,1,0,0,0,0,0,0,0,0,0,0,0,0,0,0,0,0,0,0,0,0,0,0,0,0,0,0,0,0,0,0,0,0,0,0,0,0,0,0,0,0,0,0,0,0,0,0,0,0,0,0,0,0,0,0,0,0,0,0,0,0,0,0,0,0,0,0,0,0,0,0,0,0,0,0,0,0,0,0,0,0,0,0,0,0,0,0,0,0,0,0,0,0,0,0,0,0,0,0,0,0,0,0,0,0,0,0,0,0,0,0,0,0,0,0,0,0,0,0,0,1,0,0,0,0,0,0,0,0,0,0,0,0,0,0,0,0,0,0,0,0,0,0,0,0,0,0,0,0,0,0,0,0,0,0,0,0,0,0,0,0,0,0,0,0,0,0,0,0,0,0,0,0,0,0,0,0,0,0,0,0,0,0,0,0,0,0,0,0,0,0,0,0,0,0,0,0,0,0,0,0,0,0,0,0,0,0,0,0,0,0,0,0,0,0,0,0,0,0,0,0,0,0,0,0,0,0,0,0,0,0,0,0,0,0,0,0,0,0,0,0,0,0,0,0,0,0,0,0,0,0,0,0,0,0,0,0,0,0,0,0,0,0,0,0,0,0,0,0,0,0,0,0,0,0,0,0,0,0,0,0,0,0,0,0,0,0,1,0,0,0,0,0,0,0,0,0,0,0,0,0,0,0,0,0,0,0,0,0,0,0,0,0,0,0,0,0,0,0,0,0,0,0,0,0,0,0,0,0,0,0,0,0,0,0,0,0,0,0,0,0,0,0,0,0,0,0,0,0,0,0,0,0,0,0,0,0,0,0,0,0,0,0,0,0,0,0,0,0,0,0,0,0,0,0,0,0,0,0,0,0,0,0,0,0,0,0,0,0,0,0,0,0,0,0,0,0,0,0,0,0,0,0,0,0,0,0,0,0,0,0,0,0,0,0,0,0,0,0,0,0,0,0,0,0,0,0,0,0,0,0,0,0,0,0,0,0,0,0,0,0,0,0,0,0,0,0,0,0,0,0,0,0,0,0,0,0,0,0,0,0,0,0,0,0,0,0,0,0,0,0,0,0,0,0,0,0,0,0,0,0,0,0,0,0,0,0,0,0,0,0,0,0,0,0,0,0,0,0,0,0,0,0,0,0,0,0,0,0,0,0,0,0,0,0,0,0,0,0,0,0,0,0,0,0,0,0,0,0,0,0,0,0,0,0,0,0,0,0,0,0,0,0,0,0,0,0,0,0,0,0,0,0,0,0,0,0,0,0,0,0,0,0,0,0,0,0,0,0,0,0,0,0,0,0,0,0,0,0,0,0,0,0,0,0,0,0,0,0,0,0,0,0,0,0,0,0,0,0,0,0,0,0,0,0,0,0,0,0,0,0,0,0,0,0,0,0,0,0,0,0,0,0,0,0,0,0,0,0,0,0,0,0,0,0,0,0,0,0,0,0,0,0,0,0,0,0,1,0,0,0,0,0,0,0,0,0,0,0,0,0,0,0,0,0,0,0,0,0,0,0,0,0,0,0,0,0,0,0,0,0,0,0,0,0,0,0,0,0,0,0,0,0,0,0,0,0,0,0,0,0,0,0,0,0,0,0,0,0,0,0,0,0,0,0,0,0,0,0,0,0,0,0,0,0,0,0,0,0,0,0,0,0,0,0,0,0,0,0,0,0,0,0,0,0,0,0,0,0,0,0,0,0,0,0,0,0,0,0,0,0,0,0,0,0,0,0,0,0,0,0,0,0,0,0,0,0,0,0,0,0,0,0,0,0,0,0,0,0,0,0,0,0,0,0,0,0,0,0,0,0,0,0,0,0,0,0,0,0,0,0,0,0,0,0,0,0,0,0,0,0,0,0,0,0,0,0,0,0,0,0,0,0,0,0,0,0,0,0,0,0,0,0,0,0,0,0,0,0,0,0,0,0,0,0,0,0,0,0,0,0,0,0,0,0,0,0,0,0,0,0,0,0,0,0,0,0,0,0,0,0,0,0,0,0,0,0,0,0,0,0,0,0,0,0,0,0,0,0,0,0,0,0,0,0,0,0,0,0,0,0,0,0,0,0,0,0,0,0,0,0,0,0,0,0,0,0,0,0,0,0,0,0,0,0,0,0,0,0,0,0,0,0,0,0,0,0,0,0,0,0,0,0,0,0,0,0,0,0,0,0,0,0,0,0,0,0,0,0,0,0,0,0,0,0,0,0,0,0,0,0,0,0,0,0,0,0,0,0,0,0,0,0,0,0,0,0,0,0,0,0,0,0,0,0,0,0,0,0,0,0,0,0,0,0,0,0,0,0,0,0,0,0,0,0,0,0,0,0,0,0,0,0,0,0,0,0,0,0,0,0,0,0,0,0,0,0,0,0,0,0,0,0,0,0,0,0,0,0,0,0,0,0,0,0,0,0,0,0,0,0,0,0,0,0,0,0,0,0,0,0,0,0,0,0,0,0,0,0,0,0,0,0,0,0,0,0,0,0,0,0,0,0,0,0,0,0,0,0,0,0,0,0,0,0,0,0,0,0,0,0,0,0,0,0,0,0,0,0,0,0,0,0,0,0,0,0,0,0,0,0,0,0,0,0,0,0,0,0,0,0,0,0,0,0,0,0,0,0,0,0,0,0,0,0,0,0,0,0,0,0,0,0,0,0,0,0,0,0,0,0,0,0,0,0,0,0,0,0,0,0,0,0,0,0,0,0,0,0,0,0,0,0,0,0,0,0,0,0,0,0,0,0,0,0,0,0,0,0,0,0,0,0,0,0,0,0,0,0,0,0,0,0,0,0,0,0,0,0,0,0,0,0,0,0,0,0,0,0,0,0,0,0,0,0,0,0,0,0,0,0,0,0,0,0,0,0,0,0,0,0,0,0,0,0,0,0,0,0,0,0,0,0,0,0,0,0,0,0,0,0,0,0,0,0,0,0,0,0,0,0,0,0,0,0,0,0,0,1,0,0,0,0,0,0,0,0,0,0,0,0,0,0,0,0,0,0,0,0,0,0,0,0,0,0,0,0,0,0,0,0,0,0,0,0,0,0,0,0,0,0,0,0,0,0,0,0,0,0,0,0,0,0,0,0,0,0,0,0,0,0,0,0,0,0,0,0,0,0,0,0,0,0,0,0,0,0,0,0,0,0,0,0,0,0,0,0,0,0,0,0,0,0,0,0,0,0,0,0,0,0,0,0,0,0,0,0,0,0,0,0,0,0,0,0,0,0,0,0,0,0,0,0,0,0,0,0,0,0,0,0,0,0,0,0,0,0,0,0,0,0,0,0,0,0,0,0,0,0,0,0,0,0,0,0,0,0,0,0,0,0,0,0,0,0,0,0,0,0,0,0,0,0,0,0,0,0,0,0,0,0,0,0,0,0,0,0,0,0,0,0,0,0,0,0,0,0,0,0,0,0,0,0,0,0,0,0,0,0,0,0,0,0,0,0,0,0,0,0,0,0,0,0,0,0,0,0,0,0,0,0,0,0,0,0,0,0,0,0,0,0,0,0,0,0,0,0,0,0,0,0,0,0,0,0,0,0,0,0,0,0,0,0,0,0,0,0,0,0,0,0,0,0,0,0,0,0,0,0,0,0,0,0,0,0,0,0,0,0,0,0,0,0,0,0,0,0,0,0,0,0,0,0,0,0,0,0,0,0,0,0,0,0,0,0,0,0,0,0,0,0,0,0,0,0,0,0,0,0,0,0,0,0,0,0,0,0,0,0,0,0,0,0,0,0,0,0,0,0,0,0,0,0,0,0,0,0,0,0,0,0,0,0,0,0,0,0,0,0,0,0,0,0,0,0,0,0,0,0,0,0,0,0,0,0,0,0,0,0,0,0,0,0,0,0,0,0,0,0,0,0,0,0,0,0,0,0,0,0,0,0,0,0,0,0,0,0,0,0,0,0,0,0,0,0,0,0,0,0,0,0,0,0,0,0,0,0,0,0,0,0,0,0,0,0,0,0,0,0,0,0,0,0,0,0,0,0,0,0,0,0,0,0,0,0,0,0,0,0,0,0,0,0,0,0,0,0,0,0,0,0,0,0,0,0,0,0,0,0,0,0,0,0,0,0,0,0,0,0,0,0,0,0,0,0,0,0,0,0,0,0,0,0,0,0,0,0,0,0,0,0,0,0,0,0,0,0,0,0,0,0,0,0,0,0,0,0,0,0,0,0,0,0,0,0,0,0,0,0,0,0,0,0,0,0,0,0,0,0,0,0,0,0,0,0,0,0,0,0,0,0,0,0,0,0,0,0,0,0,0,0,0,0,0,0,0,0,0,0,0,0,0,0,0,0,0,0,0,0,0,0,0,0,0,0,0,0,0,0,0,0,0,0,0,0,0,0,0,0,0,0,0,0,0,0,0,0,0,0,0,0,0,0,0,0,0,0,0,0,0,0,0,0,0,0,0,0,0,0,0,0,0,0,0,0,0,0,0,0,0,0,0,0,0,0,0,0,0,0,0,0,0,0,0,0,0,0,0,0,0,0,0,0,0,0,0,0,0,0,0,0,0,0,0,0,0,0,0,0,0,0,0,0,0,0,0,0,0,0,0,0,0,0,0,0,0,0,0,0,0,0,0,0,0,0,0,0,0,0,0,0,0,0,0,0,0,0,0,0,0,0,0,0,0,0,0,0,0,0,0,0,0,0,0,0,0,0,0,0,0,0,0,0,0,0,0,0,0,0,0,0,0,0,0,0,0,0,0,0,0,0,0,0,0,0,0,0,0,0,0,0,0,0,0,0,0,0,0,0,0,0,0,0,0,0,0,0,0,0,0,0,0,0,0,0,0,0,0,0,0,0,0,0,0,0,0,0,0,0,0,0,0,0,0,0,0,0,0,0,0,0,0,0,0,0,0,0,0,0,0,0,0,0,0,0,0,0,0,0,0,0,0,0,0,0,0,0,0,0,0,0,0,0,0,0,0,0,0,0,0,0,0,0,0,0,0,0,0,0,0,0,0,0,0,0,0,0,0,0,0,0,0,0,0,0,0,0,0,0,0,0,0,0,0,0,0,0,0,0,0,0,0,0,0,0,0,0,0,0,0,0,0,0,0,0,0,0,0,0,0,0,0,0,0,0,0,0,0,0,0,0,0,0,0,0,0,0,0,0,0,0,0,0,0,0,0,0,0,0,0,0,0,0,0,0,0,0,0,0,0,0,0,0,0,0,0,0,0,0,0,0,0,0,0,0,0,0,0,0,0,0,0,0,0,0,0,0,0,0,0,0,0,0,0,0,0,0,0,0,0,0,0,0,0,0,0,0,0,0,0,0,0,0,0,0,0,0,0,0,0,0,0,0,0,0,0,0,0,0,0,0,0,0,0,0,0,0,0,0,0,0,0,0,0,0,0,0,0,0,0,0,0,0,0,0,0,0,0,0,0,0,0,0,0,0,0,0,0,0,0,0,0,0,0,0,0,0,0,0,0,0,0,0,0,0,0,0,0,0,0,0,0,0,0,0,0,0,0,0,0,0,0,0,0,0,0,0,0,0,0,0,0,0,0,0,0,0,0,0,0,0,0,0,0,0,0,0,0,0,0,0,0,0,0,0,0,0,0,0,0,0,0,0,0,0,0,0,0,0,0,0,0,0,0,0,0,0,0,0,0,0,0,0,0,0,0,0,0,0,0,0,0,0,0,0,0,0,0,0,0,0,0,0,0,0,0,0,0,0,0,0,0,0,0,0,0,0,0,0,0,0,0,0,0,0,0,0,0,0,0,0,0,0,0,0,0,0,0,0,0,0,0,0,0,0,0,0,0,0,0,0,0,0,0,0,0,0,0,0,0,0,0,0,0,0,0,0,0,0,0,0,0,0,0,0,0,0,0,0,0,0,0,0,0,0,0,0,0,0,0,0,0,0,0,0,0,0,0,0,0,0,0,0,0,0,0,0,0,0,0,0,0,0,0,0,0,0,0,0,0,0,0,0,0,0,0,0,0,0,0,0,0,0,0,0,0,0,0,0,0,0,0,0,0,0,0,0,0,0,0,0,0,0,0,0,0,0,0,0,0,0,0,0,0,0,0,0,0,0,0,0,0,0,0,0,0,0,0,0,0,0,0,0,0,0,0,0,0,0,0,0,0,0,0,0,0,0,0,0,0,0,0,0,0,0,0,0,0,0,0,0,0,0,0,0,0,0,0,0,0,0,0,0,0,0,0,0,0,0,0,0,0,0,0,0,0,0,0,0,0,0,0,0,0,0,0,0,0,0,0,0,0,0,0,0,0,0,0,0,0,0,0,0,0,0,0,0,0,0,0,0,0,0,0,0,0,0,0,0,0,0,0,0,0,0,0,0,0,0,0,0,0,0,0,0,0,0,0,0,0,0,0,0,0,0,0,0,0,0,0,0,0,0,0,0,0,0,0,0,0,0,0,0,0,0,0,0,0,0,0,0,0,0,0,0,0,0,0,0,0,0,0,0,0,0,0,0,0,0,0,0,0,0,0,0,0,0,0,0,0,0,0,0,0,0,0,0,0,0,0,0,0,0,0,0,0,0,0,0,0,0,0,0,0,0,0,0,0,0,0,0,0,0,0,0,0,0,0,0,0,0,0,0,0,0,0,0,0,0,0,0,0,0,0,0,0,0,0,0,0,0,0,0,0,0,0,0,0,0,0,0,0,0,0,0,0,0,0,0,0,0,0,0,0,0,0,0,0,0,0,0,0,0,0,0,0,0,0,0,0,0,0,0,0,0,0,0,0,0,0,0,0,0,0,0,0,0,0,0,0,0,0,0,0,0,0,0,0,0,0,0,0,0,0,0,0,0,0,0,0,0,0,0,0,0,0,0,0,0,0,0,0,0,0,0,0,0,0,0,0,0,0,0,0,0,0,0,0,0,0,0,0,0,0,0,0,0,0,0,0,0,0,0,0,0,0,0,0,0,0,0,0,0,0,0,0,0,0,0,0,0,0,0,0,0,0,0,0,0,0,0,0,0,0,0,0,0,0,0,0,0,0,0,0,0,0,0,0,0,0,0,0,0,0,0,0,0,0,0,0,0,0,0,0,0,0,0,0,0,0,0,0,0,0,0,0,0,0,0,0,0,0,0,0,0,0,0,0,0,0,0,0,0,0,0,0,0,0,0,0,0,0,0,0,0,0,0,0,0,0,0,0,0,0,0,0,0,0,0,0,0,0,0,0,0,0,0,0,0,0,0,0,0,0,0,0,0,0,0,0,0,0,0,0,0,0,0,0,0,0,0,0,0,0,0,0,0,0,0,0,0,0,0,0,0,0,0,0,0,0,0,0,0,0,0,0,0,0,0,0,0,0,0,0,0,0,0,0,0,0,0,0,0,0,0,0,0,0,0,0,0,0,0,0,0,0,0,0,0,0,0,0,0,0,0,0,0,0,0,0,0,0,0,0,0,0,0,0,0,0,0,0,0,0,0,0,0,0,0,0,0,0,0,0,0,0,0,0,0,0,0,0,0,0,0,0,0,0,0,0,0,0,0,0,0,0,0,0,0,0,0,0,0,0,0,0,0,0,0,0,0,0,0,0,0,0,0,0,0,0,0,0,0,0,0,0,0,0,0,0,0,0,0,0,0,0,0,0,0,0,0,0,0,0,0,0,0,0,0,0,0,0,0,0,0,0,0,0,0,0,0,0,0,0,0,0,0,0,0,0,0,0,0,0,0,0,0,0,0,0,0,0,0,0,0,0,0,0,0,0,0,0,0,0,0,0,0,0,0,0,0,0,0,0,0,0,0,0,0,0,0,0,0,0,0,0,0,0,0,0,0,0,0,0,0,0,0,0,0,0,0,0,0,0,0,0,0,0,0,0,0,0,0,0,0,0,0,0,0,0,0,0,0,0,0,0,0,0,0,0,0,0,0,0,0,0,0,0,0,0,0,0,0,0,0,0,0,0,0,0,0,0,0,0,0,0,0,0,0,0,0,0,0,0,0,0,0,0,0,0,0,0,0,0,0,0,0,0,0,0,0,0,0,0,0,0,0,0,0,0,0,0,0,0,0,0,0,0,0,0,0,0,0,0,0,0,0,0,0,0,0,0,0,0,0,0,0,0,0,0,0,0,0,0,0,0,0,0,0,0,0,0,0,0,0,0,0,0,0,0,0,0,0,0,0,0,0,0,0,0,0,0,0,0,0,0,0,0,0,0,0,0,0,0,0,0,0,0,0,0,0,0,0,0,0,0,0,0,0,0,0,0,0,0,0,0,0,0,0,0,0,0,0,0,0,0,0,0,0,0,0,0,0,0,0,0,0,0,0,0,0,0,0,0,0,0,0,0,0,0,0,0,0,0,0,0,0,0,0,0,0,0,0,0,0,0,0,0,0,0,0,0,0,0,0,0,0,0,0,0,0,0,0,0,0,0,0,0,0,0,0,0,0,0,0,0,0,0,0,0,0,0,0,0,0,0,0,0,0,0,0,0,0,0,0,0,0,0,0,0,0,0,0,0,0,0,0,0,0,0,0,0,0,0,0,0,0,0,0,0,0,0,0,0,0,0,0,0,0,0,0,0,0,0,0,0,0,0,0,0,0,0,0,0,0,0,0,0,0,0,0,0,0,0,0,0,0,0,0,0,0,0,0,0,0,0,0,0,0,0,0,0,0,0,0,0,0,0,0,0,0,0,0,0,0,0,0,0,0,0,0,0,0,0,0,0,0,0,0,0,0,0,0,0,0,0,0,0,0,0,0,0,0,0,0,0,0,0,0,0,0,0,0,0,0,0,0,0,0,0,0,0,0,0,0,0,0,0,0,0,0,0,0,0,0,0,0,0,0,0,0,0,0,0,0,0,0,0,0,0,0,0,0,0,0,0,0,0,0,0,0,0,0,0,0,0,0,0,0,0,0,0,0,0,0,0,0,0,0,0,0,0,0,0,0,0,0,0,0,0,0,0,0,0,0,0,0,0,0,0,0,0,0,0,0,0,0,0,0,0,0,0,0,0,0,0,0,0,0,0,0,0,0,0,0,0,0,0,0,0,0,0,0,0,0,0,0,0,0,0,0,0,0,0,0,0,0,0,0,0,0,0,0,0,0,0,0,0,0,0,0,0,0,0,0,0,0,0,0,0,0,0,0,0,0,0,0,0,0,0,0,0,0,0,0,0,0,0,0,0,0,0,0,0,0,0,0,0,0,0,0,0,0,0,0,0,0,0,0,0,0,0,0,0,0,0,0,0,0,0,0,0,0,0,0,0,0,0,0,0,0,0,0,0,0,0,0,0,0,0,0,0,0,0,0,0,0,0,0,0,0,0,0,0,0,0,0,0,0,0,0,0,0,0,0,0,0,0,0,0,0,0,0,0,0,0,0,0,0,0,0,0,0,0,0,0,0,0,0,0,0,0,0,0,0,0,0,0,0,0,0,0,0,0,0,0,0,0,0,0,0,0,0,0,0,0,0,0,0,0,0,0,0,0,0,0,0,0,0,0,0,0,0,0,0,0,0,0,0,0,0,0,0,0,0,0,0,0,0,0,0,0,0,0,0,0,0,0,0,0,0,0,0,0,0,0,0,0,0,0,0,0,0,0,0,0,0,0,0,0,0,0,0,0,0,0,0,0,0,0,0,0,0,0,0,0,0,0,0,0,0,0,0,0,0,0,0,0,0,0,0,0,0,0,0,0,0,0,0,0,0,0,0,0,0,0,0,0,0,0,0,0,0,0,0,0,0,0,0,0,0,0,0,0,0,0,0,0,0,0,0,0,0,0,0,0,0,0,0,0,0,0,0,0,0,0,0,0,0,0,0,0,0,0,0,0,0,0,0,0,0,0,0,0,0,0,0,0,0,0,0,0,0,0,0,0,0,0,0,0,0,0,0,0,0,0,0,0,0,0,0,0,0,0,0,0,0,0,0,0,0,0,0,0,0,0,0,0,0,0,0,0,0,0,0,0,0,0,0,0,0,0,0,0,0,0,0,0,0,0,0,0,0,0,0,0,0,0,0,0,0,0,0,0,0,0,0,0,0,0,0,0,0,0,0,0,0,0,0,0,0,0,0,0,0,0,0,0,0,0,0,0,0,0,0,0,0,0,0,0,0,0,0,0,0,0,0,0,0,0,0,0,0,0,0,0,0,0,0,0,0,0,0,0,0,0,0,0,0,0,0,0,0,0,0,0,0,0\r\n"
     ]
    }
   ],
   "source": [
    "!head ./train.feature.txt -n 2"
   ]
  },
  {
   "cell_type": "markdown",
   "metadata": {},
   "source": [
    "## 52. 学習\n",
    "51で構築した学習データを用いて，ロジスティック回帰モデルを学習せよ．"
   ]
  },
  {
   "cell_type": "code",
   "execution_count": 11,
   "metadata": {},
   "outputs": [
    {
     "name": "stdout",
     "output_type": "stream",
     "text": [
      "LogisticRegression(C=1.0, class_weight=None, dual=False, fit_intercept=True,\n",
      "                   intercept_scaling=1, l1_ratio=None, max_iter=1000,\n",
      "                   multi_class='auto', n_jobs=None, penalty='l2',\n",
      "                   random_state=None, solver='lbfgs', tol=0.0001, verbose=0,\n",
      "                   warm_start=False)\n",
      "0.9879258704605017\n",
      "0.8862275449101796\n"
     ]
    }
   ],
   "source": [
    "lr = LogisticRegression(max_iter=1000)\n",
    "print(lr.fit(train_x, train_t))\n",
    "print(lr.score(train_x, train_t))\n",
    "print(lr.score(test_x, test_t))"
   ]
  },
  {
   "cell_type": "markdown",
   "metadata": {},
   "source": [
    "## 53. 予測\n",
    "52で学習したロジスティック回帰モデルを用い，与えられた記事見出しからカテゴリとその予測確率を計算するプログラムを実装せよ．"
   ]
  },
  {
   "cell_type": "code",
   "execution_count": 12,
   "metadata": {},
   "outputs": [],
   "source": [
    "res = lr.predict_proba(test_x)\n",
    "preds = res.argmax(axis=1)\n",
    "probs = res.max(axis=1)\n",
    "with open(\"53result.txt\", \"w\") as out:\n",
    "    for i in range(len(preds)):\n",
    "        print(test_t[i], \"->\", res[i], preds[i], probs[i], file=out)"
   ]
  },
  {
   "cell_type": "code",
   "execution_count": 13,
   "metadata": {},
   "outputs": [
    {
     "name": "stdout",
     "output_type": "stream",
     "text": [
      "b -> [0.89576722 0.01367435 0.00914747 0.08141096] 0 0.8957672152757299\r\n",
      "b -> [0.93174749 0.01080399 0.049394   0.00805452] 0 0.9317474938770007\r\n",
      "b -> [9.99895991e-01 4.07583230e-05 5.43797901e-05 8.87058647e-06] 0 0.9998959913004706\r\n",
      "t -> [3.34568921e-03 4.55783406e-04 7.09819606e-04 9.95488708e-01] 3 0.9954887077750038\r\n",
      "e -> [0.30617824 0.47687529 0.05762052 0.15932595] 1 0.4768752918146913\r\n",
      "e -> [1.02175533e-04 9.99729326e-01 1.32618276e-05 1.55236868e-04] 1 0.9997293257719784\r\n",
      "b -> [9.93207977e-01 3.20887508e-03 1.45269793e-04 3.43787785e-03] 0 0.9932079772788674\r\n",
      "m -> [0.94161226 0.02679419 0.00405353 0.02754002] 0 0.9416122550429745\r\n",
      "m -> [0.61484684 0.11716507 0.24180123 0.02618686] 0 0.614846840007569\r\n",
      "t -> [0.35651766 0.01655479 0.0604488  0.56647875] 3 0.5664787456857201\r\n"
     ]
    }
   ],
   "source": [
    "!head ./53result.txt"
   ]
  },
  {
   "cell_type": "code",
   "execution_count": 14,
   "metadata": {},
   "outputs": [],
   "source": [
    "def predict_from_midashi(midashi, lr, feature):\n",
    "    midashi_stemmed = get_feat_from_sentence(midashi)\n",
    "    midashi_vec = make_count_vec(midashi_stemmed, feature)\n",
    "    rc = lr.predict([midashi_vec])[0]\n",
    "    res = lr.predict_proba([midashi_vec])[0]\n",
    "    return rc,res,res.argmax(),res.max()"
   ]
  },
  {
   "cell_type": "code",
   "execution_count": 15,
   "metadata": {},
   "outputs": [
    {
     "data": {
      "text/plain": [
       "('b',\n",
       " array([0.92851131, 0.05082671, 0.01028342, 0.01037857]),\n",
       " 0,\n",
       " 0.9285113064849492)"
      ]
     },
     "execution_count": 15,
     "metadata": {},
     "output_type": "execute_result"
    }
   ],
   "source": [
    "predict_from_midashi(\"Seconds away from disaster: Dramatic moment two planes almost collide on  ...\", lr, feature) #testからとってきたもの、答えはb"
   ]
  },
  {
   "cell_type": "markdown",
   "metadata": {},
   "source": [
    "## 54. 正解率の計測\n",
    "52で学習したロジスティック回帰モデルの正解率を，学習データおよび評価データ上で計測せよ．"
   ]
  },
  {
   "cell_type": "code",
   "execution_count": 16,
   "metadata": {},
   "outputs": [],
   "source": [
    "def accuracy(lr, xl, tl):\n",
    "    res = lr.predict(xl)\n",
    "    return (res==tl).mean()"
   ]
  },
  {
   "cell_type": "code",
   "execution_count": 17,
   "metadata": {},
   "outputs": [
    {
     "name": "stdout",
     "output_type": "stream",
     "text": [
      "train : 0.9879258704605017\n",
      "test :  0.8862275449101796\n"
     ]
    }
   ],
   "source": [
    "print(\"train :\",accuracy(lr, train_x, train_t))\n",
    "print(\"test : \",accuracy(lr, test_x, test_t))"
   ]
  },
  {
   "cell_type": "markdown",
   "metadata": {},
   "source": [
    "## 55. 混同行列の作成\n",
    "52で学習したロジスティック回帰モデルの混同行列（confusion matrix）を，学習データおよび評価データ上で作成せよ．"
   ]
  },
  {
   "cell_type": "code",
   "execution_count": 18,
   "metadata": {},
   "outputs": [],
   "source": [
    "def make_confusion_matrix(lr, xl, tl):\n",
    "    label_dic = {\"b\":0, \"e\":1, \"m\":2, \"t\":3}\n",
    "    mat = np.zeros((4,4),dtype=int)\n",
    "    res = lr.predict(xl)\n",
    "    for gold_label, system_label in zip(tl, res):\n",
    "        mat[label_dic[system_label]][label_dic[gold_label]] += 1\n",
    "    return mat"
   ]
  },
  {
   "cell_type": "code",
   "execution_count": 19,
   "metadata": {},
   "outputs": [
    {
     "name": "stdout",
     "output_type": "stream",
     "text": [
      "[[4483   12    9   43]\n",
      " [  11 4231    6   17]\n",
      " [   1    1  689    2]\n",
      " [  22    4    1 1152]]\n",
      "[[523  19  14  38]\n",
      " [ 20 492  10  17]\n",
      " [  4   0  65   7]\n",
      " [ 13   8   2 104]]\n"
     ]
    }
   ],
   "source": [
    "print(make_confusion_matrix(lr, train_x, train_t))\n",
    "print(make_confusion_matrix(lr, test_x, test_t))"
   ]
  },
  {
   "cell_type": "markdown",
   "metadata": {},
   "source": [
    "## 56. 適合率，再現率，F1スコアの計測\n",
    "52で学習したロジスティック回帰モデルの適合率，再現率，F1スコアを，評価データ上で計測せよ．カテゴリごとに適合率，再現率，F1スコアを求め，カテゴリごとの性能をマイクロ平均（micro-average）とマクロ平均（macro-average）で統合せよ．"
   ]
  },
  {
   "cell_type": "code",
   "execution_count": 20,
   "metadata": {},
   "outputs": [],
   "source": [
    "def macro_score(mat):\n",
    "    scores_part = [macro_score_part(mat, target) for target in range(4)]\n",
    "    recall = statistics.mean([i[0] for i in scores_part])\n",
    "    precision = statistics.mean([i[1] for i in scores_part])\n",
    "    f1_score = 2*recall*precision / (recall+precision)\n",
    "    return recall, precision, f1_score\n",
    "\n",
    "def macro_score_part(mat, target):\n",
    "    msum = np.sum(mat)\n",
    "    TP = mat[target][target]\n",
    "    FP = sum(mat[target]) - TP\n",
    "    FN = sum(mat[:,target]) - TP\n",
    "    TN = msum - TP - FP - FN\n",
    "    recall = TP/(TP+FN)\n",
    "    precision = TP/(TP+FP)\n",
    "    return recall, precision, msum, TP, FP, FN, TN\n",
    "\n",
    "def micro_score(mat):\n",
    "    msum = np.sum(mat)\n",
    "    TP = sum([mat[i][i] for i in range(4)])\n",
    "    FP = msum - TP\n",
    "    score = TP/(TP+FP)\n",
    "    return score\n",
    "\n",
    "def print_scores(mat):\n",
    "    print(mat)\n",
    "    scores = [micro_score(mat)] + list(macro_score(mat))\n",
    "    print(\"macro_precision\", scores[2])\n",
    "    print(\"macro_recall\", scores[1])\n",
    "    print(\"macro_f1\", scores[3])\n",
    "    print(\"micro\", scores[0])"
   ]
  },
  {
   "cell_type": "code",
   "execution_count": 21,
   "metadata": {},
   "outputs": [
    {
     "name": "stdout",
     "output_type": "stream",
     "text": [
      "[[4483   12    9   43]\n",
      " [  11 4231    6   17]\n",
      " [   1    1  689    2]\n",
      " [  22    4    1 1152]]\n",
      "macro_precision 0.9873200381081855\n",
      "macro_recall 0.9786762803330958\n",
      "macro_f1 0.9829791575196268\n",
      "micro 0.9879258704605017\n",
      "[[523  19  14  38]\n",
      " [ 20 492  10  17]\n",
      " [  4   0  65   7]\n",
      " [ 13   8   2 104]]\n",
      "macro_precision 0.8668584150978622\n",
      "macro_recall 0.805674297105847\n",
      "macro_f1 0.835147246063783\n",
      "micro 0.8862275449101796\n"
     ]
    }
   ],
   "source": [
    "mm = make_confusion_matrix(lr, train_x, train_t)\n",
    "print_scores(mm)\n",
    "\n",
    "mm = make_confusion_matrix(lr, test_x, test_t)\n",
    "print_scores(mm)"
   ]
  },
  {
   "cell_type": "markdown",
   "metadata": {},
   "source": [
    "## 57. 特徴量の重みの確認\n",
    "52で学習したロジスティック回帰モデルの中で，重みの高い特徴量トップ10と，重みの低い特徴量トップ10を確認せよ．"
   ]
  },
  {
   "cell_type": "code",
   "execution_count": 22,
   "metadata": {},
   "outputs": [
    {
     "name": "stdout",
     "output_type": "stream",
     "text": [
      "business\n",
      "1 fed 1.7837730552942508\n",
      "2 bank 1.7078076159579358\n",
      "3 ukrain 1.699949415319417\n",
      "4 obamacar 1.6639316680030383\n",
      "5 oil 1.6117242870023283\n",
      "6 ecb 1.559929416816782\n",
      "7 euro 1.5465783415422434\n",
      "8 dimon 1.516726624845893\n",
      "9 argentina 1.5042282136222527\n",
      "10 yellen 1.478604804555159\n",
      "1 activis -1.8809704421129143\n",
      "2 aereo -1.2581859453799855\n",
      "3 babi -1.1522870017923905\n",
      "4 subscript -1.1184967213565717\n",
      "5 virus -1.1083828751215674\n",
      "6 ebola -1.0453484282092977\n",
      "7 heart -1.0270961614262077\n",
      "8 video -1.0259611559833435\n",
      "9 victim -1.017232320755058\n",
      "10 whale -1.0036464036969044\n",
      "############################\n",
      "entertainment\n",
      "1 kardashian 1.7660846440006697\n",
      "2 film 1.601259493069088\n",
      "3 paul 1.5905894656708441\n",
      "4 chris 1.527341065692933\n",
      "5 wed 1.448162688744093\n",
      "6 movi 1.4331000049566671\n",
      "7 miley 1.3893636303756556\n",
      "8 cyrus 1.3492782167780089\n",
      "9 voic 1.3247638951491347\n",
      "10 georg 1.3033430806902964\n",
      "1 googl -1.3368428767044536\n",
      "2 china -1.2538276691658574\n",
      "3 scientist -1.1903585796343075\n",
      "4 facebook -1.1544823961472792\n",
      "5 fine -1.1243476947349398\n",
      "6 risk -1.1231950573237586\n",
      "7 recal -1.1199733695549017\n",
      "8 studi -1.1045458025929968\n",
      "9 alibaba -1.1037893557341543\n",
      "10 gm -1.0944495908179614\n",
      "############################\n",
      "health\n",
      "1 ebola 2.5476648235663744\n",
      "2 fda 2.1997962170586303\n",
      "3 cancer 1.9164901731673072\n",
      "4 medic 1.741805596614424\n",
      "5 studi 1.7211040958767083\n",
      "6 doctor 1.6837017363252822\n",
      "7 drug 1.6780568003784906\n",
      "8 brain 1.6284958592078487\n",
      "9 mer 1.6252346049512534\n",
      "10 case 1.434547118570656\n",
      "1 dimon -1.0385476752270422\n",
      "2 climat -0.925813817857959\n",
      "3 gm -0.8714322168481922\n",
      "4 ceo -0.8485887568689217\n",
      "5 facebook -0.833613820985189\n",
      "6 amazon -0.7488233021704968\n",
      "7 plant -0.700019322649319\n",
      "8 appl -0.6966117897289696\n",
      "9 deal -0.6914112976055087\n",
      "10 bank -0.6631881504791458\n",
      "############################\n",
      "science and technology\n",
      "1 googl 2.7619935701162666\n",
      "2 facebook 2.6760382192799685\n",
      "3 climat 2.5458599998518325\n",
      "4 appl 2.480263937183819\n",
      "5 microsoft 2.3193963628536123\n",
      "6 tesla 2.1221274765710487\n",
      "7 activis 2.0755447731132723\n",
      "8 nasa 1.878046656749314\n",
      "9 fcc 1.7166678498199763\n",
      "10 heartble 1.6651792006086454\n",
      "1 40 -0.9876790420747762\n",
      "2 his -0.9783350950920852\n",
      "3 throne -0.9620212325850979\n",
      "4 drug -0.9391577778680761\n",
      "5 concern -0.8971151310490264\n",
      "6 cancer -0.8944220107822588\n",
      "7 post -0.862420603520483\n",
      "8 money -0.8315452720429746\n",
      "9 percent -0.8288558081333494\n",
      "10 fed -0.8163577132160074\n",
      "############################\n"
     ]
    }
   ],
   "source": [
    "category = {\"b\":\"business\", \"e\":\"entertainment\", \"m\":\"health\", \"t\":\"science and technology\"}\n",
    "\n",
    "for i,label in enumerate([\"b\", \"e\", \"m\", \"t\"]):\n",
    "    print(category[label])\n",
    "    indexl = lr.coef_[i].argsort()\n",
    "    for j,index in enumerate(indexl[:-11:-1]):\n",
    "        print(j+1,feature[index],lr.coef_[i][index])\n",
    "        \n",
    "    for j,index in enumerate(indexl[:10]):\n",
    "        print(j+1,feature[index],lr.coef_[i][index])\n",
    "    print(\"############################\")"
   ]
  },
  {
   "cell_type": "markdown",
   "metadata": {},
   "source": [
    "## 58. 正則化パラメータの変更\n",
    "ロジスティック回帰モデルを学習するとき，正則化パラメータを調整することで，学習時の過学習（overfitting）の度合いを制御できる．異なる正則化パラメータでロジスティック回帰モデルを学習し，学習データ，検証データ，および評価データ上の正解率を求めよ．実験の結果は，正則化パラメータを横軸，正解率を縦軸としたグラフにまとめよ．"
   ]
  },
  {
   "cell_type": "code",
   "execution_count": 23,
   "metadata": {},
   "outputs": [
    {
     "name": "stdout",
     "output_type": "stream",
     "text": [
      "0.1\n",
      "0.2\n",
      "0.3\n",
      "0.4\n",
      "0.5\n",
      "0.6\n",
      "0.7\n",
      "0.8\n",
      "0.9\n",
      "1.0\n",
      "1.1\n",
      "1.2\n",
      "1.3\n",
      "1.4\n",
      "1.5\n",
      "1.6\n",
      "1.7\n",
      "1.8\n",
      "1.9\n",
      "2.0\n",
      "2.1\n",
      "2.2\n",
      "2.3\n",
      "2.4\n",
      "2.5\n",
      "2.6\n",
      "2.7\n",
      "2.8\n",
      "2.9\n",
      "3.0\n",
      "3.1\n",
      "3.2\n",
      "3.3\n",
      "3.4\n",
      "3.5\n",
      "3.6\n",
      "3.7\n",
      "3.8\n",
      "3.9\n",
      "4.0\n",
      "4.1\n",
      "4.2\n",
      "4.3\n",
      "4.4\n",
      "4.5\n",
      "4.6\n",
      "4.7\n",
      "4.8\n",
      "4.9\n",
      "5.0\n"
     ]
    }
   ],
   "source": [
    "xaxis = [i/10 for i in range(1,51)]\n",
    "#lrl = [LogisticRegression(C=c/10, max_iter=1000).fit(train_x, train_t) for c in xaxis]\n",
    "lrl = []\n",
    "for c in xaxis:\n",
    "    lrl.append(LogisticRegression(C=c, max_iter=1000).fit(train_x, train_t))\n",
    "    print(c)\n",
    "\n",
    "train_accul = [accuracy(lr, train_x, train_t) for lr in lrl]\n",
    "test_accul = [accuracy(lr, test_x, test_t) for lr in lrl]\n",
    "valid_accul = [accuracy(lr, valid_x, valid_t) for lr in lrl]"
   ]
  },
  {
   "cell_type": "code",
   "execution_count": 24,
   "metadata": {},
   "outputs": [
    {
     "data": {
      "image/png": "[encoded data removed]",
      "text/plain": [
       "<Figure size 432x288 with 1 Axes>"
      ]
     },
     "metadata": {},
     "output_type": "display_data"
    }
   ],
   "source": [
    "plt.plot(xaxis, train_accul, label=\"train\")\n",
    "plt.plot(xaxis, test_accul, label=\"test\")\n",
    "plt.plot(xaxis, valid_accul, label=\"valid\")\n",
    "plt.legend()\n",
    "plt.show()"
   ]
  },
  {
   "cell_type": "markdown",
   "metadata": {},
   "source": [
    "## 59. ハイパーパラメータの探索\n",
    "学習アルゴリズムや学習パラメータを変えながら，カテゴリ分類モデルを学習せよ．検証データ上の正解率が最も高くなる学習アルゴリズム・パラメータを求めよ．また，その学習アルゴリズム・パラメータを用いたときの評価データ上の正解率を求めよ．"
   ]
  },
  {
   "cell_type": "code",
   "execution_count": 25,
   "metadata": {},
   "outputs": [],
   "source": [
    "from sklearn import svm"
   ]
  },
  {
   "cell_type": "code",
   "execution_count": 26,
   "metadata": {},
   "outputs": [
    {
     "data": {
      "text/plain": [
       "LinearSVC(C=1.0, class_weight=None, dual=True, fit_intercept=True,\n",
       "          intercept_scaling=1, loss='squared_hinge', max_iter=1000,\n",
       "          multi_class='ovr', penalty='l2', random_state=None, tol=0.0001,\n",
       "          verbose=0)"
      ]
     },
     "execution_count": 26,
     "metadata": {},
     "output_type": "execute_result"
    }
   ],
   "source": [
    "clf = svm.LinearSVC(C=1.0)\n",
    "clf.fit(train_x, train_t)"
   ]
  },
  {
   "cell_type": "code",
   "execution_count": 27,
   "metadata": {},
   "outputs": [
    {
     "name": "stdout",
     "output_type": "stream",
     "text": [
      "0.9982216398352677\n",
      "0.8944610778443114\n"
     ]
    }
   ],
   "source": [
    "print(accuracy(clf, train_x, train_t))\n",
    "print(accuracy(clf, test_x, test_t))"
   ]
  },
  {
   "cell_type": "code",
   "execution_count": 28,
   "metadata": {},
   "outputs": [
    {
     "name": "stdout",
     "output_type": "stream",
     "text": [
      "0.1\n",
      "0.2\n",
      "0.3\n",
      "0.4\n",
      "0.5\n",
      "0.6\n",
      "0.7\n",
      "0.8\n",
      "0.9\n",
      "1.0\n",
      "1.1\n",
      "1.2\n",
      "1.3\n",
      "1.4\n",
      "1.5\n",
      "1.6\n",
      "1.7\n",
      "1.8\n",
      "1.9\n",
      "2.0\n",
      "2.1\n",
      "2.2\n",
      "2.3\n",
      "2.4\n",
      "2.5\n"
     ]
    }
   ],
   "source": [
    "xaxis = [i/10 for i in range(1,26)]\n",
    "clfl = []\n",
    "for c in xaxis:\n",
    "    clfl.append(svm.LinearSVC(C=c, max_iter=1000).fit(train_x, train_t))\n",
    "    print(c)\n",
    "\n",
    "train_accul = [accuracy(clf, train_x, train_t) for clf in clfl]\n",
    "test_accul = [accuracy(clf, test_x, test_t) for clf in clfl]\n",
    "valid_accul = [accuracy(clf, valid_x, valid_t) for clf in clfl]"
   ]
  },
  {
   "cell_type": "code",
   "execution_count": 29,
   "metadata": {},
   "outputs": [
    {
     "data": {
      "image/png": "[encoded data removed]",
      "text/plain": [
       "<Figure size 432x288 with 1 Axes>"
      ]
     },
     "metadata": {},
     "output_type": "display_data"
    }
   ],
   "source": [
    "plt.plot(xaxis, train_accul, label=\"train\")\n",
    "plt.plot(xaxis, test_accul, label=\"test\")\n",
    "plt.plot(xaxis, valid_accul, label=\"valid\")\n",
    "plt.legend()\n",
    "plt.show()"
   ]
  },
  {
   "cell_type": "code",
   "execution_count": 30,
   "metadata": {},
   "outputs": [
    {
     "data": {
      "text/plain": [
       "0.905688622754491"
      ]
     },
     "execution_count": 30,
     "metadata": {},
     "output_type": "execute_result"
    }
   ],
   "source": [
    "max(valid_accul)"
   ]
  },
  {
   "cell_type": "code",
   "execution_count": 31,
   "metadata": {},
   "outputs": [
    {
     "name": "stdout",
     "output_type": "stream",
     "text": [
      "0.0001\n",
      "0.001\n",
      "0.01\n",
      "0.1\n",
      "1\n"
     ]
    },
    {
     "data": {
      "image/png": "[encoded data removed]",
      "text/plain": [
       "<Figure size 432x288 with 1 Axes>"
      ]
     },
     "metadata": {},
     "output_type": "display_data"
    }
   ],
   "source": [
    "xaxis = [0.0001, 0.001, 0.01, 0.1, 1]\n",
    "clfl = []\n",
    "for c in xaxis:\n",
    "    clfl.append(svm.LinearSVC(C=c, max_iter=1000).fit(train_x, train_t))\n",
    "    print(c)\n",
    "\n",
    "train_accul = [accuracy(clf, train_x, train_t) for clf in clfl]\n",
    "test_accul = [accuracy(clf, test_x, test_t) for clf in clfl]\n",
    "valid_accul = [accuracy(clf, valid_x, valid_t) for clf in clfl]\n",
    "\n",
    "plt.plot(xaxis, train_accul, label=\"train\")\n",
    "plt.plot(xaxis, test_accul, label=\"test\")\n",
    "plt.plot(xaxis, valid_accul, label=\"valid\")\n",
    "plt.xscale('log')\n",
    "plt.legend()\n",
    "plt.show()"
   ]
  },
  {
   "cell_type": "code",
   "execution_count": 33,
   "metadata": {},
   "outputs": [
    {
     "data": {
      "text/plain": [
       "0.905688622754491"
      ]
     },
     "execution_count": 33,
     "metadata": {},
     "output_type": "execute_result"
    }
   ],
   "source": [
    "max(valid_accul)"
   ]
  },
  {
   "cell_type": "code",
   "execution_count": 34,
   "metadata": {},
   "outputs": [],
   "source": [
    "from sklearn import naive_bayes"
   ]
  },
  {
   "cell_type": "code",
   "execution_count": 35,
   "metadata": {},
   "outputs": [
    {
     "name": "stdout",
     "output_type": "stream",
     "text": [
      "0.9389741669786597\n",
      "0.8907185628742516\n"
     ]
    }
   ],
   "source": [
    "clf = naive_bayes.MultinomialNB()\n",
    "clf.fit(train_x, train_t)\n",
    "print(accuracy(clf, train_x, train_t))\n",
    "print(accuracy(clf, test_x, test_t))"
   ]
  },
  {
   "cell_type": "code",
   "execution_count": 36,
   "metadata": {},
   "outputs": [
    {
     "name": "stdout",
     "output_type": "stream",
     "text": [
      "0.1\n",
      "0.2\n",
      "0.3\n",
      "0.4\n",
      "0.5\n",
      "0.6\n",
      "0.7\n",
      "0.8\n",
      "0.9\n",
      "1.0\n",
      "1.1\n",
      "1.2\n",
      "1.3\n",
      "1.4\n",
      "1.5\n",
      "1.6\n",
      "1.7\n",
      "1.8\n",
      "1.9\n",
      "2.0\n",
      "2.1\n",
      "2.2\n",
      "2.3\n",
      "2.4\n",
      "2.5\n"
     ]
    }
   ],
   "source": [
    "xaxis = [i/10 for i in range(1,26)]\n",
    "clfl = []\n",
    "for c in xaxis:\n",
    "    clfl.append(naive_bayes.MultinomialNB(alpha=c).fit(train_x, train_t))\n",
    "    print(c)\n",
    "\n",
    "train_accul = [accuracy(clf, train_x, train_t) for clf in clfl]\n",
    "test_accul = [accuracy(clf, test_x, test_t) for clf in clfl]\n",
    "valid_accul = [accuracy(clf, valid_x, valid_t) for clf in clfl]"
   ]
  },
  {
   "cell_type": "code",
   "execution_count": 37,
   "metadata": {},
   "outputs": [
    {
     "data": {
      "image/png": "[encoded data removed]",
      "text/plain": [
       "<Figure size 432x288 with 1 Axes>"
      ]
     },
     "metadata": {},
     "output_type": "display_data"
    }
   ],
   "source": [
    "plt.plot(xaxis, train_accul, label=\"train\")\n",
    "plt.plot(xaxis, test_accul, label=\"test\")\n",
    "plt.plot(xaxis, valid_accul, label=\"valid\")\n",
    "plt.legend()\n",
    "plt.show()"
   ]
  },
  {
   "cell_type": "code",
   "execution_count": 38,
   "metadata": {},
   "outputs": [
    {
     "data": {
      "text/plain": [
       "0.8982035928143712"
      ]
     },
     "execution_count": 38,
     "metadata": {},
     "output_type": "execute_result"
    }
   ],
   "source": [
    "max(valid_accul)"
   ]
  },
  {
   "cell_type": "code",
   "execution_count": 39,
   "metadata": {},
   "outputs": [
    {
     "name": "stdout",
     "output_type": "stream",
     "text": [
      "0.0001\n",
      "0.001\n",
      "0.01\n",
      "0.1\n",
      "1\n"
     ]
    },
    {
     "data": {
      "image/png": "[encoded data removed]",
      "text/plain": [
       "<Figure size 432x288 with 1 Axes>"
      ]
     },
     "metadata": {},
     "output_type": "display_data"
    }
   ],
   "source": [
    "xaxis = [0.0001, 0.001, 0.01, 0.1, 1]\n",
    "clfl = []\n",
    "for c in xaxis:\n",
    "    clfl.append(naive_bayes.MultinomialNB(alpha=c).fit(train_x, train_t))\n",
    "    print(c)\n",
    "\n",
    "train_accul = [accuracy(clf, train_x, train_t) for clf in clfl]\n",
    "test_accul = [accuracy(clf, test_x, test_t) for clf in clfl]\n",
    "valid_accul = [accuracy(clf, valid_x, valid_t) for clf in clfl]\n",
    "\n",
    "plt.plot(xaxis, train_accul, label=\"train\")\n",
    "plt.plot(xaxis, test_accul, label=\"test\")\n",
    "plt.plot(xaxis, valid_accul, label=\"valid\")\n",
    "plt.xscale('log')\n",
    "plt.legend()\n",
    "plt.show()"
   ]
  },
  {
   "cell_type": "code",
   "execution_count": 40,
   "metadata": {},
   "outputs": [
    {
     "data": {
      "text/plain": [
       "0.8982035928143712"
      ]
     },
     "execution_count": 40,
     "metadata": {},
     "output_type": "execute_result"
    }
   ],
   "source": [
    "max(valid_accul)"
   ]
  },
  {
   "cell_type": "code",
   "execution_count": null,
   "metadata": {},
   "outputs": [],
   "source": []
  }
 ],
 "metadata": {
  "kernelspec": {
   "display_name": "Python 3",
   "language": "python",
   "name": "python3"
  },
  "language_info": {
   "codemirror_mode": {
    "name": "ipython",
    "version": 3
   },
   "file_extension": ".py",
   "mimetype": "text/x-python",
   "name": "python",
   "nbconvert_exporter": "python",
   "pygments_lexer": "ipython3",
   "version": "3.6.9"
  }
 },
 "nbformat": 4,
 "nbformat_minor": 2
}
